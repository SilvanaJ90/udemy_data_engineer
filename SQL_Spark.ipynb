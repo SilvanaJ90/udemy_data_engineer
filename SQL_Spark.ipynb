{
  "nbformat": 4,
  "nbformat_minor": 0,
  "metadata": {
    "colab": {
      "provenance": [],
      "mount_file_id": "1Ak44DgRlB4-qIwsu_EljN8Gf4FGwETRQ",
      "authorship_tag": "ABX9TyPg23KufM+9tSQryqTJC8SS",
      "include_colab_link": true
    },
    "kernelspec": {
      "name": "python3",
      "display_name": "Python 3"
    },
    "language_info": {
      "name": "python"
    }
  },
  "cells": [
    {
      "cell_type": "markdown",
      "metadata": {
        "id": "view-in-github",
        "colab_type": "text"
      },
      "source": [
        "<a href=\"https://colab.research.google.com/github/SilvanaJ90/udemy_data_engineer/blob/main/SQL_Spark.ipynb\" target=\"_parent\"><img src=\"https://colab.research.google.com/assets/colab-badge.svg\" alt=\"Open In Colab\"/></a>"
      ]
    },
    {
      "cell_type": "code",
      "execution_count": 1,
      "metadata": {
        "colab": {
          "base_uri": "https://localhost:8080/"
        },
        "id": "CYOgjK9tLmOm",
        "outputId": "29619452-a4fb-4399-c865-de175366f6dd"
      },
      "outputs": [
        {
          "output_type": "stream",
          "name": "stdout",
          "text": [
            "Collecting pyspark\n",
            "  Downloading pyspark-3.5.1.tar.gz (317.0 MB)\n",
            "\u001b[2K     \u001b[90m━━━━━━━━━━━━━━━━━━━━━━━━━━━━━━━━━━━━━━━━\u001b[0m \u001b[32m317.0/317.0 MB\u001b[0m \u001b[31m1.1 MB/s\u001b[0m eta \u001b[36m0:00:00\u001b[0m\n",
            "\u001b[?25h  Preparing metadata (setup.py) ... \u001b[?25l\u001b[?25hdone\n",
            "Requirement already satisfied: py4j==0.10.9.7 in /usr/local/lib/python3.10/dist-packages (from pyspark) (0.10.9.7)\n",
            "Building wheels for collected packages: pyspark\n",
            "  Building wheel for pyspark (setup.py) ... \u001b[?25l\u001b[?25hdone\n",
            "  Created wheel for pyspark: filename=pyspark-3.5.1-py2.py3-none-any.whl size=317488491 sha256=460083112d6a5338f35681422910c07d3e159fd7303a96b796aee93ffdcd1062\n",
            "  Stored in directory: /root/.cache/pip/wheels/80/1d/60/2c256ed38dddce2fdd93be545214a63e02fbd8d74fb0b7f3a6\n",
            "Successfully built pyspark\n",
            "Installing collected packages: pyspark\n",
            "Successfully installed pyspark-3.5.1\n"
          ]
        }
      ],
      "source": [
        "pip install pyspark"
      ]
    },
    {
      "cell_type": "code",
      "source": [],
      "metadata": {
        "id": "K2scE1ZXL2Ej"
      },
      "execution_count": 1,
      "outputs": []
    },
    {
      "cell_type": "markdown",
      "source": [
        "# **Spark SQL DataFrame**"
      ],
      "metadata": {
        "id": "QRAA51v5MfXW"
      }
    },
    {
      "cell_type": "code",
      "source": [
        "from pyspark.sql import SparkSession"
      ],
      "metadata": {
        "id": "7R3ziKRaMl8N"
      },
      "execution_count": 2,
      "outputs": []
    },
    {
      "cell_type": "code",
      "source": [
        "spark = SparkSession.builder.appName('Dataframe').getOrCreate()"
      ],
      "metadata": {
        "id": "nAjOM1iFMo-S"
      },
      "execution_count": 3,
      "outputs": []
    },
    {
      "cell_type": "code",
      "source": [
        "df = spark.read.json('/content/drive/MyDrive/dataset/personas.json')"
      ],
      "metadata": {
        "id": "g2K8csdRM_hj"
      },
      "execution_count": 4,
      "outputs": []
    },
    {
      "cell_type": "code",
      "source": [
        "df.show()"
      ],
      "metadata": {
        "colab": {
          "base_uri": "https://localhost:8080/"
        },
        "id": "3HdFIa1lNE6h",
        "outputId": "44107a01-1674-4993-e4bd-3cc315d510e6"
      },
      "execution_count": 5,
      "outputs": [
        {
          "output_type": "stream",
          "name": "stdout",
          "text": [
            "+----+------+\n",
            "|edad|nombre|\n",
            "+----+------+\n",
            "|NULL|Miguel|\n",
            "|  25|Carlos|\n",
            "|  19|  Juan|\n",
            "+----+------+\n",
            "\n"
          ]
        }
      ]
    },
    {
      "cell_type": "code",
      "source": [
        "df.printSchema()"
      ],
      "metadata": {
        "colab": {
          "base_uri": "https://localhost:8080/"
        },
        "id": "IBJvIf0DNISo",
        "outputId": "4312a1ba-0e56-4606-e592-cf99324cd1fa"
      },
      "execution_count": 6,
      "outputs": [
        {
          "output_type": "stream",
          "name": "stdout",
          "text": [
            "root\n",
            " |-- edad: long (nullable = true)\n",
            " |-- nombre: string (nullable = true)\n",
            "\n"
          ]
        }
      ]
    },
    {
      "cell_type": "code",
      "source": [
        "df.columns #columnas"
      ],
      "metadata": {
        "colab": {
          "base_uri": "https://localhost:8080/"
        },
        "id": "Yu2lJbFONQMB",
        "outputId": "7937d56e-3368-49a0-e2bd-0bc7ca948c6d"
      },
      "execution_count": 7,
      "outputs": [
        {
          "output_type": "execute_result",
          "data": {
            "text/plain": [
              "['edad', 'nombre']"
            ]
          },
          "metadata": {},
          "execution_count": 7
        }
      ]
    },
    {
      "cell_type": "code",
      "source": [
        "df.describe().show()"
      ],
      "metadata": {
        "colab": {
          "base_uri": "https://localhost:8080/"
        },
        "id": "f3Ph5X_DNTc3",
        "outputId": "b5903258-440e-4e23-bc47-3be8b32da187"
      },
      "execution_count": 8,
      "outputs": [
        {
          "output_type": "stream",
          "name": "stdout",
          "text": [
            "+-------+-----------------+------+\n",
            "|summary|             edad|nombre|\n",
            "+-------+-----------------+------+\n",
            "|  count|                2|     3|\n",
            "|   mean|             22.0|  NULL|\n",
            "| stddev|4.242640687119285|  NULL|\n",
            "|    min|               19|Carlos|\n",
            "|    max|               25|Miguel|\n",
            "+-------+-----------------+------+\n",
            "\n"
          ]
        }
      ]
    },
    {
      "cell_type": "markdown",
      "source": [
        "**Schema**"
      ],
      "metadata": {
        "id": "8FgqGaflNfuR"
      }
    },
    {
      "cell_type": "code",
      "source": [
        "from pyspark.sql.types import StructField, StringType, IntegerType, StructType"
      ],
      "metadata": {
        "id": "w5ymxAClNYDG"
      },
      "execution_count": 9,
      "outputs": []
    },
    {
      "cell_type": "code",
      "source": [
        "schema = [StructField('nombre', StringType(), True),\n",
        "          StructField('edad', IntegerType(), True)]"
      ],
      "metadata": {
        "id": "L4jaQxYVNrlH"
      },
      "execution_count": 10,
      "outputs": []
    },
    {
      "cell_type": "code",
      "source": [
        "schema_final = StructType(fields=schema)"
      ],
      "metadata": {
        "id": "HfBOHsJCN5M6"
      },
      "execution_count": 11,
      "outputs": []
    },
    {
      "cell_type": "code",
      "source": [
        "df = spark.read.json('/content/drive/MyDrive/dataset/personas.json', schema=schema_final)"
      ],
      "metadata": {
        "id": "7lpJELVVOAuA"
      },
      "execution_count": 12,
      "outputs": []
    },
    {
      "cell_type": "code",
      "source": [
        "df.printSchema()"
      ],
      "metadata": {
        "colab": {
          "base_uri": "https://localhost:8080/"
        },
        "id": "caaayOeUOEXG",
        "outputId": "19f47f8e-b8ea-4525-a84c-2691a2e9a9ae"
      },
      "execution_count": 13,
      "outputs": [
        {
          "output_type": "stream",
          "name": "stdout",
          "text": [
            "root\n",
            " |-- nombre: string (nullable = true)\n",
            " |-- edad: integer (nullable = true)\n",
            "\n"
          ]
        }
      ]
    },
    {
      "cell_type": "code",
      "source": [
        "df.show()"
      ],
      "metadata": {
        "colab": {
          "base_uri": "https://localhost:8080/"
        },
        "id": "Ej9k80HVOMxn",
        "outputId": "5b19ed22-7960-46c0-ef35-303d673c2868"
      },
      "execution_count": 14,
      "outputs": [
        {
          "output_type": "stream",
          "name": "stdout",
          "text": [
            "+------+----+\n",
            "|nombre|edad|\n",
            "+------+----+\n",
            "|Miguel|NULL|\n",
            "|Carlos|  25|\n",
            "|  Juan|  19|\n",
            "+------+----+\n",
            "\n"
          ]
        }
      ]
    },
    {
      "cell_type": "markdown",
      "source": [
        "**Select**"
      ],
      "metadata": {
        "id": "kHqH0k7mOTrR"
      }
    },
    {
      "cell_type": "code",
      "source": [
        "df['edad']"
      ],
      "metadata": {
        "colab": {
          "base_uri": "https://localhost:8080/"
        },
        "id": "PqsjcaieOSyq",
        "outputId": "173106b9-9b1e-4678-ab84-a429d7fa2541"
      },
      "execution_count": 15,
      "outputs": [
        {
          "output_type": "execute_result",
          "data": {
            "text/plain": [
              "Column<'edad'>"
            ]
          },
          "metadata": {},
          "execution_count": 15
        }
      ]
    },
    {
      "cell_type": "code",
      "source": [
        "df.select('edad').show()"
      ],
      "metadata": {
        "colab": {
          "base_uri": "https://localhost:8080/"
        },
        "id": "trPPus3dOal1",
        "outputId": "2c6cbf64-6229-4938-8068-fb9ce56a0c85"
      },
      "execution_count": 16,
      "outputs": [
        {
          "output_type": "stream",
          "name": "stdout",
          "text": [
            "+----+\n",
            "|edad|\n",
            "+----+\n",
            "|NULL|\n",
            "|  25|\n",
            "|  19|\n",
            "+----+\n",
            "\n"
          ]
        }
      ]
    },
    {
      "cell_type": "code",
      "source": [
        "type(df.select('edad'))"
      ],
      "metadata": {
        "colab": {
          "base_uri": "https://localhost:8080/",
          "height": 203
        },
        "id": "FkJAHeqnOjsv",
        "outputId": "884efeb4-ad00-4bdc-c569-f6e423102955"
      },
      "execution_count": 17,
      "outputs": [
        {
          "output_type": "execute_result",
          "data": {
            "text/plain": [
              "pyspark.sql.dataframe.DataFrame"
            ],
            "text/html": [
              "<div style=\"max-width:800px; border: 1px solid var(--colab-border-color);\"><style>\n",
              "      pre.function-repr-contents {\n",
              "        overflow-x: auto;\n",
              "        padding: 8px 12px;\n",
              "        max-height: 500px;\n",
              "      }\n",
              "\n",
              "      pre.function-repr-contents.function-repr-contents-collapsed {\n",
              "        cursor: pointer;\n",
              "        max-height: 100px;\n",
              "      }\n",
              "    </style>\n",
              "    <pre style=\"white-space: initial; background:\n",
              "         var(--colab-secondary-surface-color); padding: 8px 12px;\n",
              "         border-bottom: 1px solid var(--colab-border-color);\"><b>pyspark.sql.dataframe.DataFrame</b><br/>def __init__(jdf: JavaObject, sql_ctx: Union[&#x27;SQLContext&#x27;, &#x27;SparkSession&#x27;])</pre><pre class=\"function-repr-contents function-repr-contents-collapsed\" style=\"\"><a class=\"filepath\" style=\"display:none\" href=\"#\">/usr/local/lib/python3.10/dist-packages/pyspark/sql/dataframe.py</a>A distributed collection of data grouped into named columns.\n",
              "\n",
              ".. versionadded:: 1.3.0\n",
              "\n",
              ".. versionchanged:: 3.4.0\n",
              "    Supports Spark Connect.\n",
              "\n",
              "Examples\n",
              "--------\n",
              "A :class:`DataFrame` is equivalent to a relational table in Spark SQL,\n",
              "and can be created using various functions in :class:`SparkSession`:\n",
              "\n",
              "&gt;&gt;&gt; people = spark.createDataFrame([\n",
              "...     {&quot;deptId&quot;: 1, &quot;age&quot;: 40, &quot;name&quot;: &quot;Hyukjin Kwon&quot;, &quot;gender&quot;: &quot;M&quot;, &quot;salary&quot;: 50},\n",
              "...     {&quot;deptId&quot;: 1, &quot;age&quot;: 50, &quot;name&quot;: &quot;Takuya Ueshin&quot;, &quot;gender&quot;: &quot;M&quot;, &quot;salary&quot;: 100},\n",
              "...     {&quot;deptId&quot;: 2, &quot;age&quot;: 60, &quot;name&quot;: &quot;Xinrong Meng&quot;, &quot;gender&quot;: &quot;F&quot;, &quot;salary&quot;: 150},\n",
              "...     {&quot;deptId&quot;: 3, &quot;age&quot;: 20, &quot;name&quot;: &quot;Haejoon Lee&quot;, &quot;gender&quot;: &quot;M&quot;, &quot;salary&quot;: 200}\n",
              "... ])\n",
              "\n",
              "Once created, it can be manipulated using the various domain-specific-language\n",
              "(DSL) functions defined in: :class:`DataFrame`, :class:`Column`.\n",
              "\n",
              "To select a column from the :class:`DataFrame`, use the apply method:\n",
              "\n",
              "&gt;&gt;&gt; age_col = people.age\n",
              "\n",
              "A more concrete example:\n",
              "\n",
              "&gt;&gt;&gt; # To create DataFrame using SparkSession\n",
              "... department = spark.createDataFrame([\n",
              "...     {&quot;id&quot;: 1, &quot;name&quot;: &quot;PySpark&quot;},\n",
              "...     {&quot;id&quot;: 2, &quot;name&quot;: &quot;ML&quot;},\n",
              "...     {&quot;id&quot;: 3, &quot;name&quot;: &quot;Spark SQL&quot;}\n",
              "... ])\n",
              "\n",
              "&gt;&gt;&gt; people.filter(people.age &gt; 30).join(\n",
              "...     department, people.deptId == department.id).groupBy(\n",
              "...     department.name, &quot;gender&quot;).agg({&quot;salary&quot;: &quot;avg&quot;, &quot;age&quot;: &quot;max&quot;}).show()\n",
              "+-------+------+-----------+--------+\n",
              "|   name|gender|avg(salary)|max(age)|\n",
              "+-------+------+-----------+--------+\n",
              "|     ML|     F|      150.0|      60|\n",
              "|PySpark|     M|       75.0|      50|\n",
              "+-------+------+-----------+--------+\n",
              "\n",
              "Notes\n",
              "-----\n",
              "A DataFrame should only be created as described above. It should not be directly\n",
              "created via using the constructor.</pre>\n",
              "      <script>\n",
              "      if (google.colab.kernel.accessAllowed && google.colab.files && google.colab.files.view) {\n",
              "        for (const element of document.querySelectorAll('.filepath')) {\n",
              "          element.style.display = 'block'\n",
              "          element.onclick = (event) => {\n",
              "            event.preventDefault();\n",
              "            event.stopPropagation();\n",
              "            google.colab.files.view(element.textContent, 80);\n",
              "          };\n",
              "        }\n",
              "      }\n",
              "      for (const element of document.querySelectorAll('.function-repr-contents')) {\n",
              "        element.onclick = (event) => {\n",
              "          event.preventDefault();\n",
              "          event.stopPropagation();\n",
              "          element.classList.toggle('function-repr-contents-collapsed');\n",
              "        };\n",
              "      }\n",
              "      </script>\n",
              "      </div>"
            ]
          },
          "metadata": {},
          "execution_count": 17
        }
      ]
    },
    {
      "cell_type": "code",
      "source": [
        "df.head(2)[0]"
      ],
      "metadata": {
        "colab": {
          "base_uri": "https://localhost:8080/"
        },
        "id": "ocNp1CwdOs4h",
        "outputId": "800f6309-717b-41e6-a99d-6579ddf19773"
      },
      "execution_count": 18,
      "outputs": [
        {
          "output_type": "execute_result",
          "data": {
            "text/plain": [
              "Row(nombre='Miguel', edad=None)"
            ]
          },
          "metadata": {},
          "execution_count": 18
        }
      ]
    },
    {
      "cell_type": "code",
      "source": [
        "df.select(['nombre', 'edad']).show()"
      ],
      "metadata": {
        "colab": {
          "base_uri": "https://localhost:8080/"
        },
        "id": "fQmvjpkxOwre",
        "outputId": "22589cfd-635d-4fa1-fd4b-8c2ad695235c"
      },
      "execution_count": 19,
      "outputs": [
        {
          "output_type": "stream",
          "name": "stdout",
          "text": [
            "+------+----+\n",
            "|nombre|edad|\n",
            "+------+----+\n",
            "|Miguel|NULL|\n",
            "|Carlos|  25|\n",
            "|  Juan|  19|\n",
            "+------+----+\n",
            "\n"
          ]
        }
      ]
    },
    {
      "cell_type": "markdown",
      "source": [
        "**Crear columna nueva** con withColumn()"
      ],
      "metadata": {
        "id": "JXCcuXGaO-R4"
      }
    },
    {
      "cell_type": "code",
      "source": [
        "df.withColumn('nueva_columna', df['edad']+1).show()"
      ],
      "metadata": {
        "colab": {
          "base_uri": "https://localhost:8080/"
        },
        "id": "cMNp5flVPFHt",
        "outputId": "4ca311bc-cc84-4281-d61d-8c9ed42a31c9"
      },
      "execution_count": 20,
      "outputs": [
        {
          "output_type": "stream",
          "name": "stdout",
          "text": [
            "+------+----+-------------+\n",
            "|nombre|edad|nueva_columna|\n",
            "+------+----+-------------+\n",
            "|Miguel|NULL|         NULL|\n",
            "|Carlos|  25|           26|\n",
            "|  Juan|  19|           20|\n",
            "+------+----+-------------+\n",
            "\n"
          ]
        }
      ]
    },
    {
      "cell_type": "markdown",
      "source": [
        "**Cambiar el nombre de la columna con WithRename()**"
      ],
      "metadata": {
        "id": "mtL2jCvhPQwc"
      }
    },
    {
      "cell_type": "code",
      "source": [
        "df.withColumnRenamed('nombre', 'nombre_completo').show()"
      ],
      "metadata": {
        "colab": {
          "base_uri": "https://localhost:8080/"
        },
        "id": "qCAhgLwTPNqa",
        "outputId": "89e43720-4e01-4d9e-c400-375c8c533813"
      },
      "execution_count": 21,
      "outputs": [
        {
          "output_type": "stream",
          "name": "stdout",
          "text": [
            "+---------------+----+\n",
            "|nombre_completo|edad|\n",
            "+---------------+----+\n",
            "|         Miguel|NULL|\n",
            "|         Carlos|  25|\n",
            "|           Juan|  19|\n",
            "+---------------+----+\n",
            "\n"
          ]
        }
      ]
    },
    {
      "cell_type": "markdown",
      "source": [
        "Utilizar el lenguaje SQL para crear una consulta"
      ],
      "metadata": {
        "id": "rB5qVrlxPitK"
      }
    },
    {
      "cell_type": "code",
      "source": [
        "df.createOrReplaceTempView('personas')"
      ],
      "metadata": {
        "id": "oTm0jL6IPeu4"
      },
      "execution_count": 22,
      "outputs": []
    },
    {
      "cell_type": "code",
      "source": [
        "query = spark.sql(\" SELECT * FROM personas\")"
      ],
      "metadata": {
        "id": "_jk7n_JvPp0E"
      },
      "execution_count": 23,
      "outputs": []
    },
    {
      "cell_type": "code",
      "source": [
        "query.show()"
      ],
      "metadata": {
        "colab": {
          "base_uri": "https://localhost:8080/"
        },
        "id": "Dsv8RlOEPzKv",
        "outputId": "75cc8ca5-4477-4bc6-f58d-8941c4fff810"
      },
      "execution_count": 24,
      "outputs": [
        {
          "output_type": "stream",
          "name": "stdout",
          "text": [
            "+------+----+\n",
            "|nombre|edad|\n",
            "+------+----+\n",
            "|Miguel|NULL|\n",
            "|Carlos|  25|\n",
            "|  Juan|  19|\n",
            "+------+----+\n",
            "\n"
          ]
        }
      ]
    },
    {
      "cell_type": "code",
      "source": [
        "mayor_20 = spark.sql(\"SELECT * FROM personas WHERE edad > 20\")"
      ],
      "metadata": {
        "id": "aM5DMGg_P19C"
      },
      "execution_count": 25,
      "outputs": []
    },
    {
      "cell_type": "code",
      "source": [
        "mayor_20.show()"
      ],
      "metadata": {
        "colab": {
          "base_uri": "https://localhost:8080/"
        },
        "id": "c8Rwj8FuP5lO",
        "outputId": "603c0cc3-e019-43a8-9f8c-f9f571bb5b1b"
      },
      "execution_count": 26,
      "outputs": [
        {
          "output_type": "stream",
          "name": "stdout",
          "text": [
            "+------+----+\n",
            "|nombre|edad|\n",
            "+------+----+\n",
            "|Carlos|  25|\n",
            "+------+----+\n",
            "\n"
          ]
        }
      ]
    },
    {
      "cell_type": "markdown",
      "source": [
        "**Spark SQL filter() o where()**"
      ],
      "metadata": {
        "id": "Tq6TGRHaQHIV"
      }
    },
    {
      "cell_type": "code",
      "source": [
        "from pyspark.sql import SparkSession"
      ],
      "metadata": {
        "id": "mqEGUjMdP8RB"
      },
      "execution_count": 27,
      "outputs": []
    },
    {
      "cell_type": "code",
      "source": [
        "spark = SparkSession.builder.appName('filter').getOrCreate()"
      ],
      "metadata": {
        "id": "KNUi8-8mQTJ7"
      },
      "execution_count": 28,
      "outputs": []
    },
    {
      "cell_type": "code",
      "source": [
        "df = spark.read.csv('/content/drive/MyDrive/dataset/AAPL.csv', inferSchema=True, header=True)"
      ],
      "metadata": {
        "id": "xG6zv3PlQWWm"
      },
      "execution_count": 29,
      "outputs": []
    },
    {
      "cell_type": "code",
      "source": [
        "df.show()"
      ],
      "metadata": {
        "colab": {
          "base_uri": "https://localhost:8080/"
        },
        "id": "MEhwhtyUQ1Sc",
        "outputId": "1441b93b-0ca0-4e07-9274-5bbc41bfa644"
      },
      "execution_count": 30,
      "outputs": [
        {
          "output_type": "stream",
          "name": "stdout",
          "text": [
            "+----------+---------+---------+---------+---------+---------+---------+\n",
            "|      Date|     Open|     High|      Low|    Close|Adj Close|   Volume|\n",
            "+----------+---------+---------+---------+---------+---------+---------+\n",
            "|2010-01-04|    30.49|30.642857|    30.34|30.572857|26.466835|123432400|\n",
            "|2010-01-05|30.657143|30.798571|30.464285|30.625713|26.512596|150476200|\n",
            "|2010-01-06|30.625713|30.747143|30.107143|30.138571|26.090879|138040000|\n",
            "|2010-01-07|    30.25|30.285715|29.864286|30.082857|26.042646|119282800|\n",
            "|2010-01-08|30.042856|30.285715|29.865715|30.282858|26.215786|111902700|\n",
            "|2010-01-11|     30.4|30.428572|29.778572|30.015715|25.984528|115557400|\n",
            "|2010-01-12|29.884285|29.967142|29.488571|29.674286|25.688946|148614900|\n",
            "|2010-01-13|29.695715|30.132856|29.157143|30.092857|26.051304|151473000|\n",
            "|2010-01-14|30.015715|30.065714|29.860001|29.918571|25.900436|108223500|\n",
            "|2010-01-15|30.132856|30.228571|    29.41|29.418571|25.467583|148516900|\n",
            "|2010-01-19|29.761429|30.741428|29.605715|30.719999|26.594227|182501900|\n",
            "|2010-01-20|30.701429|30.792856|29.928572|30.247143| 26.18487|153038200|\n",
            "|2010-01-21|30.297142|30.472857|29.601429|29.724285|25.732233|152038600|\n",
            "|2010-01-22|29.540001|29.642857|28.165714|    28.25|24.455948|220441900|\n",
            "|2010-01-25|    28.93|29.242857|28.598572|    29.01|25.113882|266424900|\n",
            "|2010-01-26|29.421429|30.530001|28.940001|    29.42|25.468813|466777500|\n",
            "|2010-01-27|29.549999|30.082857|28.504286|29.697144|25.708735|430642100|\n",
            "|2010-01-28|29.275715|29.357143|28.385714|28.469999|24.646406|293375600|\n",
            "|2010-01-29|28.725714|28.885714|27.178572|27.437143| 23.75227|311488100|\n",
            "|2010-02-01|27.481428|     28.0|27.328571|27.818571|24.082464|187469100|\n",
            "+----------+---------+---------+---------+---------+---------+---------+\n",
            "only showing top 20 rows\n",
            "\n"
          ]
        }
      ]
    },
    {
      "cell_type": "code",
      "source": [
        "df.printSchema()"
      ],
      "metadata": {
        "colab": {
          "base_uri": "https://localhost:8080/"
        },
        "id": "aLITAswNQ5i5",
        "outputId": "8066516a-e363-437e-df68-74cda507c576"
      },
      "execution_count": 31,
      "outputs": [
        {
          "output_type": "stream",
          "name": "stdout",
          "text": [
            "root\n",
            " |-- Date: date (nullable = true)\n",
            " |-- Open: double (nullable = true)\n",
            " |-- High: double (nullable = true)\n",
            " |-- Low: double (nullable = true)\n",
            " |-- Close: double (nullable = true)\n",
            " |-- Adj Close: double (nullable = true)\n",
            " |-- Volume: integer (nullable = true)\n",
            "\n"
          ]
        }
      ]
    },
    {
      "cell_type": "code",
      "source": [
        "df.head(5)[0]"
      ],
      "metadata": {
        "colab": {
          "base_uri": "https://localhost:8080/"
        },
        "id": "m6aXYtEsQ_4M",
        "outputId": "ba9740a9-2fd7-40e9-f9c9-32e7eeaa9567"
      },
      "execution_count": 32,
      "outputs": [
        {
          "output_type": "execute_result",
          "data": {
            "text/plain": [
              "Row(Date=datetime.date(2010, 1, 4), Open=30.49, High=30.642857, Low=30.34, Close=30.572857, Adj Close=26.466835, Volume=123432400)"
            ]
          },
          "metadata": {},
          "execution_count": 32
        }
      ]
    },
    {
      "cell_type": "code",
      "source": [
        "df.filter(df['Close'] < 30).select(['Open', 'Close']).show()"
      ],
      "metadata": {
        "colab": {
          "base_uri": "https://localhost:8080/"
        },
        "id": "NIYRS39uRD6g",
        "outputId": "b2425fcb-04a4-483b-b3c8-ba90b0c21806"
      },
      "execution_count": 33,
      "outputs": [
        {
          "output_type": "stream",
          "name": "stdout",
          "text": [
            "+---------+---------+\n",
            "|     Open|    Close|\n",
            "+---------+---------+\n",
            "|29.884285|29.674286|\n",
            "|30.015715|29.918571|\n",
            "|30.132856|29.418571|\n",
            "|30.297142|29.724285|\n",
            "|29.540001|    28.25|\n",
            "|    28.93|    29.01|\n",
            "|29.421429|    29.42|\n",
            "|29.549999|29.697144|\n",
            "|29.275715|28.469999|\n",
            "|28.725714|27.437143|\n",
            "|27.481428|27.818571|\n",
            "|27.987143|    27.98|\n",
            "|27.881428|28.461428|\n",
            "|28.104286|27.435715|\n",
            "|27.518572|27.922857|\n",
            "|27.955715|27.731428|\n",
            "|28.059999|28.027143|\n",
            "|27.984285|27.874287|\n",
            "|    27.84|28.381428|\n",
            "|28.301428|28.625713|\n",
            "+---------+---------+\n",
            "only showing top 20 rows\n",
            "\n"
          ]
        }
      ]
    },
    {
      "cell_type": "code",
      "source": [
        "df.where((df['Close'] < 30) | (df['Open'] < 30)).select(['Open', 'Close']).show()"
      ],
      "metadata": {
        "colab": {
          "base_uri": "https://localhost:8080/"
        },
        "id": "jzFYMh_LRQ08",
        "outputId": "8f3476d2-1f0c-4a0e-f74a-df16cfe1935f"
      },
      "execution_count": 34,
      "outputs": [
        {
          "output_type": "stream",
          "name": "stdout",
          "text": [
            "+---------+---------+\n",
            "|     Open|    Close|\n",
            "+---------+---------+\n",
            "|29.884285|29.674286|\n",
            "|29.695715|30.092857|\n",
            "|30.015715|29.918571|\n",
            "|30.132856|29.418571|\n",
            "|29.761429|30.719999|\n",
            "|30.297142|29.724285|\n",
            "|29.540001|    28.25|\n",
            "|    28.93|    29.01|\n",
            "|29.421429|    29.42|\n",
            "|29.549999|29.697144|\n",
            "|29.275715|28.469999|\n",
            "|28.725714|27.437143|\n",
            "|27.481428|27.818571|\n",
            "|27.987143|    27.98|\n",
            "|27.881428|28.461428|\n",
            "|28.104286|27.435715|\n",
            "|27.518572|27.922857|\n",
            "|27.955715|27.731428|\n",
            "|28.059999|28.027143|\n",
            "|27.984285|27.874287|\n",
            "+---------+---------+\n",
            "only showing top 20 rows\n",
            "\n"
          ]
        }
      ]
    },
    {
      "cell_type": "code",
      "source": [
        "df.where((df['Close'] < 30) & (df['Open'] < 30)).select(['Open', 'Close']).show()"
      ],
      "metadata": {
        "colab": {
          "base_uri": "https://localhost:8080/"
        },
        "id": "jIVQpO9eSP_p",
        "outputId": "f12e3144-1e4f-4f09-fd3b-531b5b07b1be"
      },
      "execution_count": 35,
      "outputs": [
        {
          "output_type": "stream",
          "name": "stdout",
          "text": [
            "+---------+---------+\n",
            "|     Open|    Close|\n",
            "+---------+---------+\n",
            "|29.884285|29.674286|\n",
            "|29.540001|    28.25|\n",
            "|    28.93|    29.01|\n",
            "|29.421429|    29.42|\n",
            "|29.549999|29.697144|\n",
            "|29.275715|28.469999|\n",
            "|28.725714|27.437143|\n",
            "|27.481428|27.818571|\n",
            "|27.987143|    27.98|\n",
            "|27.881428|28.461428|\n",
            "|28.104286|27.435715|\n",
            "|27.518572|27.922857|\n",
            "|27.955715|27.731428|\n",
            "|28.059999|28.027143|\n",
            "|27.984285|27.874287|\n",
            "|    27.84|28.381428|\n",
            "|28.301428|28.625713|\n",
            "|28.848572|29.057142|\n",
            "|    29.17|28.935715|\n",
            "|28.804285|    28.99|\n",
            "+---------+---------+\n",
            "only showing top 20 rows\n",
            "\n"
          ]
        }
      ]
    },
    {
      "cell_type": "code",
      "source": [
        "df.where((df['Close'] < 30) & ~ (df['Open'] < 30)).select(['Open', 'Close']).show()"
      ],
      "metadata": {
        "colab": {
          "base_uri": "https://localhost:8080/"
        },
        "id": "bz_8UiksSUH_",
        "outputId": "6ebbd38a-41a2-413e-e2d0-c048d27d8086"
      },
      "execution_count": 36,
      "outputs": [
        {
          "output_type": "stream",
          "name": "stdout",
          "text": [
            "+---------+---------+\n",
            "|     Open|    Close|\n",
            "+---------+---------+\n",
            "|30.015715|29.918571|\n",
            "|30.132856|29.418571|\n",
            "|30.297142|29.724285|\n",
            "+---------+---------+\n",
            "\n"
          ]
        }
      ]
    },
    {
      "cell_type": "code",
      "source": [
        "df.filter(df['Low'] == 30.34).show()"
      ],
      "metadata": {
        "colab": {
          "base_uri": "https://localhost:8080/"
        },
        "id": "ChMxP6YRSlX3",
        "outputId": "f10d897c-dea2-4d56-94b8-8b6249ae4e5b"
      },
      "execution_count": 37,
      "outputs": [
        {
          "output_type": "stream",
          "name": "stdout",
          "text": [
            "+----------+-----+---------+-----+---------+---------+---------+\n",
            "|      Date| Open|     High|  Low|    Close|Adj Close|   Volume|\n",
            "+----------+-----+---------+-----+---------+---------+---------+\n",
            "|2010-01-04|30.49|30.642857|30.34|30.572857|26.466835|123432400|\n",
            "+----------+-----+---------+-----+---------+---------+---------+\n",
            "\n"
          ]
        }
      ]
    },
    {
      "cell_type": "code",
      "source": [
        "resultado = df.filter(df['Low'] == 30.34).collect()"
      ],
      "metadata": {
        "id": "GFXbKVsJSsc-"
      },
      "execution_count": 38,
      "outputs": []
    },
    {
      "cell_type": "code",
      "source": [
        "fila = resultado[0]"
      ],
      "metadata": {
        "id": "7i2yNfz7SvYv"
      },
      "execution_count": 39,
      "outputs": []
    },
    {
      "cell_type": "code",
      "source": [
        "fila.asDict()['Volume']"
      ],
      "metadata": {
        "colab": {
          "base_uri": "https://localhost:8080/"
        },
        "id": "JtL7y5amS16n",
        "outputId": "f009e255-4d3c-4f59-fa35-9061ff91a535"
      },
      "execution_count": 40,
      "outputs": [
        {
          "output_type": "execute_result",
          "data": {
            "text/plain": [
              "123432400"
            ]
          },
          "metadata": {},
          "execution_count": 40
        }
      ]
    },
    {
      "cell_type": "markdown",
      "source": [
        "# **Spark SQL Agrupaciones**"
      ],
      "metadata": {
        "id": "9GH7doMSTdyA"
      }
    },
    {
      "cell_type": "code",
      "source": [
        "from pyspark.sql import SparkSession"
      ],
      "metadata": {
        "id": "3JYmzIApTbj2"
      },
      "execution_count": 41,
      "outputs": []
    },
    {
      "cell_type": "code",
      "source": [
        "spark = SparkSession.builder.appName('agrupaciones').getOrCreate()"
      ],
      "metadata": {
        "id": "nY5pQGCWTmK6"
      },
      "execution_count": 42,
      "outputs": []
    },
    {
      "cell_type": "code",
      "source": [
        "df = spark.read.csv('/content/drive/MyDrive/dataset/ventas.csv', inferSchema=True, header=True)"
      ],
      "metadata": {
        "id": "BJvlX0rdTpHY"
      },
      "execution_count": 43,
      "outputs": []
    },
    {
      "cell_type": "code",
      "source": [
        "df.show()"
      ],
      "metadata": {
        "colab": {
          "base_uri": "https://localhost:8080/"
        },
        "id": "mxhOqsGjT1yb",
        "outputId": "df5fab49-3105-4575-fd6e-620364d7baf6"
      },
      "execution_count": 44,
      "outputs": [
        {
          "output_type": "stream",
          "name": "stdout",
          "text": [
            "+-------+-------+------+\n",
            "|Empresa|Persona|Ventas|\n",
            "+-------+-------+------+\n",
            "|   GOOG| Carlos|   200|\n",
            "|   GOOG|   Juan|   120|\n",
            "|   GOOG| Felipe|   340|\n",
            "|   MSFT|   Tina|   600|\n",
            "|   MSFT| Andrea|   124|\n",
            "|   MSFT|  Carla|   243|\n",
            "|     FB|   Sara|   870|\n",
            "|     FB|Ignacio|   350|\n",
            "|   APPL| Miguel|   250|\n",
            "|   APPL|  Oscar|   130|\n",
            "|   APPL|  Jorge|   750|\n",
            "|   APPL|   Ivan|   350|\n",
            "+-------+-------+------+\n",
            "\n"
          ]
        }
      ]
    },
    {
      "cell_type": "code",
      "source": [
        "df.printSchema()"
      ],
      "metadata": {
        "colab": {
          "base_uri": "https://localhost:8080/"
        },
        "id": "WNdVIogsT8YH",
        "outputId": "3fe03296-6178-4993-d062-18aeafc7b4eb"
      },
      "execution_count": 45,
      "outputs": [
        {
          "output_type": "stream",
          "name": "stdout",
          "text": [
            "root\n",
            " |-- Empresa: string (nullable = true)\n",
            " |-- Persona: string (nullable = true)\n",
            " |-- Ventas: integer (nullable = true)\n",
            "\n"
          ]
        }
      ]
    },
    {
      "cell_type": "markdown",
      "source": [
        "**groupBy()**"
      ],
      "metadata": {
        "id": "XiP8UTY5UAzJ"
      }
    },
    {
      "cell_type": "code",
      "source": [
        "df.groupBy('Empresa').sum().show()"
      ],
      "metadata": {
        "colab": {
          "base_uri": "https://localhost:8080/"
        },
        "id": "NBiD1MLuT-9m",
        "outputId": "bf6fc41d-c657-4f19-888d-19f451e4294d"
      },
      "execution_count": 46,
      "outputs": [
        {
          "output_type": "stream",
          "name": "stdout",
          "text": [
            "+-------+-----------+\n",
            "|Empresa|sum(Ventas)|\n",
            "+-------+-----------+\n",
            "|   APPL|       1480|\n",
            "|   GOOG|        660|\n",
            "|     FB|       1220|\n",
            "|   MSFT|        967|\n",
            "+-------+-----------+\n",
            "\n"
          ]
        }
      ]
    },
    {
      "cell_type": "markdown",
      "source": [
        "**agg()**"
      ],
      "metadata": {
        "id": "pjiHQ1zaUTgF"
      }
    },
    {
      "cell_type": "code",
      "source": [
        "df.agg({'Ventas':'sum'}).show()"
      ],
      "metadata": {
        "colab": {
          "base_uri": "https://localhost:8080/"
        },
        "id": "Q_1YMpNZUJOP",
        "outputId": "abc35146-c77e-43d4-f689-03c4eecc6ca4"
      },
      "execution_count": 47,
      "outputs": [
        {
          "output_type": "stream",
          "name": "stdout",
          "text": [
            "+-----------+\n",
            "|sum(Ventas)|\n",
            "+-----------+\n",
            "|       4327|\n",
            "+-----------+\n",
            "\n"
          ]
        }
      ]
    },
    {
      "cell_type": "code",
      "source": [
        "agrupado = df.groupBy('Empresa')"
      ],
      "metadata": {
        "id": "rCVCSrfHUf69"
      },
      "execution_count": 48,
      "outputs": []
    },
    {
      "cell_type": "code",
      "source": [
        "agrupado.agg({'Ventas':'sum'}).show()"
      ],
      "metadata": {
        "colab": {
          "base_uri": "https://localhost:8080/"
        },
        "id": "Zd1eig00Usp5",
        "outputId": "fc4271f6-24e8-4dee-aa5b-01bf31fc2833"
      },
      "execution_count": 49,
      "outputs": [
        {
          "output_type": "stream",
          "name": "stdout",
          "text": [
            "+-------+-----------+\n",
            "|Empresa|sum(Ventas)|\n",
            "+-------+-----------+\n",
            "|   APPL|       1480|\n",
            "|   GOOG|        660|\n",
            "|     FB|       1220|\n",
            "|   MSFT|        967|\n",
            "+-------+-----------+\n",
            "\n"
          ]
        }
      ]
    },
    {
      "cell_type": "markdown",
      "source": [
        "**Otras funciones**"
      ],
      "metadata": {
        "id": "ughhYrUOU0aO"
      }
    },
    {
      "cell_type": "code",
      "source": [
        "from pyspark.sql.functions import countDistinct, avg, stddev"
      ],
      "metadata": {
        "id": "iiyI9Nh9U4Ag"
      },
      "execution_count": 50,
      "outputs": []
    },
    {
      "cell_type": "code",
      "source": [
        "df.select(countDistinct('Ventas')).show()"
      ],
      "metadata": {
        "colab": {
          "base_uri": "https://localhost:8080/"
        },
        "id": "kF2pDi8ZU93y",
        "outputId": "989be391-82ea-4755-ef19-cefb5ccca5c9"
      },
      "execution_count": 51,
      "outputs": [
        {
          "output_type": "stream",
          "name": "stdout",
          "text": [
            "+----------------------+\n",
            "|count(DISTINCT Ventas)|\n",
            "+----------------------+\n",
            "|                    11|\n",
            "+----------------------+\n",
            "\n"
          ]
        }
      ]
    },
    {
      "cell_type": "code",
      "source": [
        "df.select(stddev('Ventas').alias('Media de ventas')).show()"
      ],
      "metadata": {
        "colab": {
          "base_uri": "https://localhost:8080/"
        },
        "id": "J3HEDD72VCVo",
        "outputId": "263e9d9b-86a0-497c-9f9b-41a91bbaeaed"
      },
      "execution_count": 52,
      "outputs": [
        {
          "output_type": "stream",
          "name": "stdout",
          "text": [
            "+------------------+\n",
            "|   Media de ventas|\n",
            "+------------------+\n",
            "|250.08742410799007|\n",
            "+------------------+\n",
            "\n"
          ]
        }
      ]
    },
    {
      "cell_type": "code",
      "source": [
        "from pyspark.sql.functions import format_number"
      ],
      "metadata": {
        "id": "4H27p4IiVN63"
      },
      "execution_count": 53,
      "outputs": []
    },
    {
      "cell_type": "code",
      "source": [
        "ventas_stdev = df.select(stddev('Ventas'))"
      ],
      "metadata": {
        "id": "pNgrWsWCVWn4"
      },
      "execution_count": 54,
      "outputs": []
    },
    {
      "cell_type": "code",
      "source": [
        "ventas_stdev.show()"
      ],
      "metadata": {
        "colab": {
          "base_uri": "https://localhost:8080/"
        },
        "id": "FHa-zVfBV3It",
        "outputId": "b5807342-c1af-4e18-d4ea-b8fcbb5a543c"
      },
      "execution_count": 55,
      "outputs": [
        {
          "output_type": "stream",
          "name": "stdout",
          "text": [
            "+------------------+\n",
            "|    stddev(Ventas)|\n",
            "+------------------+\n",
            "|250.08742410799007|\n",
            "+------------------+\n",
            "\n"
          ]
        }
      ]
    },
    {
      "cell_type": "code",
      "source": [
        "ventas_stdev.select(format_number('stddev(Ventas)', 2).alias('stdev de ventas')).show()"
      ],
      "metadata": {
        "colab": {
          "base_uri": "https://localhost:8080/"
        },
        "id": "GlAS7lxSVieW",
        "outputId": "31255408-d1be-4c33-c897-305141233a9f"
      },
      "execution_count": 56,
      "outputs": [
        {
          "output_type": "stream",
          "name": "stdout",
          "text": [
            "+---------------+\n",
            "|stdev de ventas|\n",
            "+---------------+\n",
            "|         250.09|\n",
            "+---------------+\n",
            "\n"
          ]
        }
      ]
    },
    {
      "cell_type": "markdown",
      "source": [
        "**orderBy()**"
      ],
      "metadata": {
        "id": "kXDwPRmwWGWq"
      }
    },
    {
      "cell_type": "code",
      "source": [
        "df.orderBy('Ventas').show()"
      ],
      "metadata": {
        "colab": {
          "base_uri": "https://localhost:8080/"
        },
        "id": "_zOqjJrcWJ5r",
        "outputId": "3134aa59-44d2-491e-fc35-7c3968f7e7ec"
      },
      "execution_count": 57,
      "outputs": [
        {
          "output_type": "stream",
          "name": "stdout",
          "text": [
            "+-------+-------+------+\n",
            "|Empresa|Persona|Ventas|\n",
            "+-------+-------+------+\n",
            "|   GOOG|   Juan|   120|\n",
            "|   MSFT| Andrea|   124|\n",
            "|   APPL|  Oscar|   130|\n",
            "|   GOOG| Carlos|   200|\n",
            "|   MSFT|  Carla|   243|\n",
            "|   APPL| Miguel|   250|\n",
            "|   GOOG| Felipe|   340|\n",
            "|     FB|Ignacio|   350|\n",
            "|   APPL|   Ivan|   350|\n",
            "|   MSFT|   Tina|   600|\n",
            "|   APPL|  Jorge|   750|\n",
            "|     FB|   Sara|   870|\n",
            "+-------+-------+------+\n",
            "\n"
          ]
        }
      ]
    },
    {
      "cell_type": "code",
      "source": [
        "df.orderBy(df['Ventas'].desc()).show()"
      ],
      "metadata": {
        "colab": {
          "base_uri": "https://localhost:8080/"
        },
        "id": "UwzTFG0SWQgG",
        "outputId": "2efc339d-4ec1-4c4f-e9d2-2b8a86aed9c8"
      },
      "execution_count": 58,
      "outputs": [
        {
          "output_type": "stream",
          "name": "stdout",
          "text": [
            "+-------+-------+------+\n",
            "|Empresa|Persona|Ventas|\n",
            "+-------+-------+------+\n",
            "|     FB|   Sara|   870|\n",
            "|   APPL|  Jorge|   750|\n",
            "|   MSFT|   Tina|   600|\n",
            "|     FB|Ignacio|   350|\n",
            "|   APPL|   Ivan|   350|\n",
            "|   GOOG| Felipe|   340|\n",
            "|   APPL| Miguel|   250|\n",
            "|   MSFT|  Carla|   243|\n",
            "|   GOOG| Carlos|   200|\n",
            "|   APPL|  Oscar|   130|\n",
            "|   MSFT| Andrea|   124|\n",
            "|   GOOG|   Juan|   120|\n",
            "+-------+-------+------+\n",
            "\n"
          ]
        }
      ]
    },
    {
      "cell_type": "markdown",
      "source": [
        "# **Spark SQL Valores Nulos**"
      ],
      "metadata": {
        "id": "ZJoYf9I7YAPN"
      }
    },
    {
      "cell_type": "code",
      "source": [
        "from pyspark.sql import SparkSession"
      ],
      "metadata": {
        "id": "slC-Wc09X_Wp"
      },
      "execution_count": 59,
      "outputs": []
    },
    {
      "cell_type": "code",
      "source": [
        "spark = SparkSession.builder.appName('nulos').getOrCreate()"
      ],
      "metadata": {
        "id": "uOekEQrzYF_N"
      },
      "execution_count": 60,
      "outputs": []
    },
    {
      "cell_type": "code",
      "source": [
        "df = spark.read.csv('/content/drive/MyDrive/dataset/Null.csv', inferSchema=True, header=True)"
      ],
      "metadata": {
        "id": "8Z6Bp-NMYOKu"
      },
      "execution_count": 61,
      "outputs": []
    },
    {
      "cell_type": "code",
      "source": [
        "df.printSchema()"
      ],
      "metadata": {
        "colab": {
          "base_uri": "https://localhost:8080/"
        },
        "id": "riGnjDfoYXzo",
        "outputId": "71442859-948e-4851-8b09-cd33300758b4"
      },
      "execution_count": 62,
      "outputs": [
        {
          "output_type": "stream",
          "name": "stdout",
          "text": [
            "root\n",
            " |-- Id: string (nullable = true)\n",
            " |-- Nombre: string (nullable = true)\n",
            " |-- Ventas: integer (nullable = true)\n",
            " |-- Clientes: integer (nullable = true)\n",
            "\n"
          ]
        }
      ]
    },
    {
      "cell_type": "code",
      "source": [
        "df.show()"
      ],
      "metadata": {
        "colab": {
          "base_uri": "https://localhost:8080/"
        },
        "id": "e6KNaCCnYbgG",
        "outputId": "60864f9b-297c-4f26-8287-e12717d13c85"
      },
      "execution_count": 63,
      "outputs": [
        {
          "output_type": "stream",
          "name": "stdout",
          "text": [
            "+----+------+------+--------+\n",
            "|  Id|Nombre|Ventas|Clientes|\n",
            "+----+------+------+--------+\n",
            "|emp1|  John|  NULL|       3|\n",
            "|emp2|  NULL|  NULL|    NULL|\n",
            "|emp3|  NULL|   345|    NULL|\n",
            "|emp4| Cindy|   456|       4|\n",
            "+----+------+------+--------+\n",
            "\n"
          ]
        }
      ]
    },
    {
      "cell_type": "code",
      "source": [
        "df.na.drop().show() #quita cualquier fila que tenga nulo"
      ],
      "metadata": {
        "colab": {
          "base_uri": "https://localhost:8080/"
        },
        "id": "W_cz7y0YYioN",
        "outputId": "4928a355-2fa5-468d-c95d-57391e291fb6"
      },
      "execution_count": 64,
      "outputs": [
        {
          "output_type": "stream",
          "name": "stdout",
          "text": [
            "+----+------+------+--------+\n",
            "|  Id|Nombre|Ventas|Clientes|\n",
            "+----+------+------+--------+\n",
            "|emp4| Cindy|   456|       4|\n",
            "+----+------+------+--------+\n",
            "\n"
          ]
        }
      ]
    },
    {
      "cell_type": "code",
      "source": [
        "df.na.drop(thresh=4).show() #quita cualquier fila que tenga dos nulos"
      ],
      "metadata": {
        "colab": {
          "base_uri": "https://localhost:8080/"
        },
        "id": "FYyLHplCYpH4",
        "outputId": "e03a3366-2998-4ef9-cded-858a1e59eab8"
      },
      "execution_count": 65,
      "outputs": [
        {
          "output_type": "stream",
          "name": "stdout",
          "text": [
            "+----+------+------+--------+\n",
            "|  Id|Nombre|Ventas|Clientes|\n",
            "+----+------+------+--------+\n",
            "|emp4| Cindy|   456|       4|\n",
            "+----+------+------+--------+\n",
            "\n"
          ]
        }
      ]
    },
    {
      "cell_type": "code",
      "source": [
        "df.na.drop(how='all').show() #quita cualquier fila que tenga todos los nulos"
      ],
      "metadata": {
        "colab": {
          "base_uri": "https://localhost:8080/"
        },
        "id": "R3ZYYhZdY2Mk",
        "outputId": "18138724-1e7e-4761-ec8a-13050eedb801"
      },
      "execution_count": 66,
      "outputs": [
        {
          "output_type": "stream",
          "name": "stdout",
          "text": [
            "+----+------+------+--------+\n",
            "|  Id|Nombre|Ventas|Clientes|\n",
            "+----+------+------+--------+\n",
            "|emp1|  John|  NULL|       3|\n",
            "|emp2|  NULL|  NULL|    NULL|\n",
            "|emp3|  NULL|   345|    NULL|\n",
            "|emp4| Cindy|   456|       4|\n",
            "+----+------+------+--------+\n",
            "\n"
          ]
        }
      ]
    },
    {
      "cell_type": "code",
      "source": [
        "df.na.drop(subset=['Clientes']).show() #quita cualquier fila que tenga nulo en la columna edad"
      ],
      "metadata": {
        "colab": {
          "base_uri": "https://localhost:8080/"
        },
        "id": "sUng3q58Y-ND",
        "outputId": "80948f39-1ade-4425-b14b-b53420c5893a"
      },
      "execution_count": 67,
      "outputs": [
        {
          "output_type": "stream",
          "name": "stdout",
          "text": [
            "+----+------+------+--------+\n",
            "|  Id|Nombre|Ventas|Clientes|\n",
            "+----+------+------+--------+\n",
            "|emp1|  John|  NULL|       3|\n",
            "|emp4| Cindy|   456|       4|\n",
            "+----+------+------+--------+\n",
            "\n"
          ]
        }
      ]
    },
    {
      "cell_type": "markdown",
      "source": [
        "**Rellenar = fill()**"
      ],
      "metadata": {
        "id": "z7dS3kbwZGLu"
      }
    },
    {
      "cell_type": "code",
      "source": [
        "df.na.fill(0).show()"
      ],
      "metadata": {
        "colab": {
          "base_uri": "https://localhost:8080/"
        },
        "id": "MxlOfkUVZC4W",
        "outputId": "d30ee99a-4512-4648-af16-232efcfdaa55"
      },
      "execution_count": 68,
      "outputs": [
        {
          "output_type": "stream",
          "name": "stdout",
          "text": [
            "+----+------+------+--------+\n",
            "|  Id|Nombre|Ventas|Clientes|\n",
            "+----+------+------+--------+\n",
            "|emp1|  John|     0|       3|\n",
            "|emp2|  NULL|     0|       0|\n",
            "|emp3|  NULL|   345|       0|\n",
            "|emp4| Cindy|   456|       4|\n",
            "+----+------+------+--------+\n",
            "\n"
          ]
        }
      ]
    },
    {
      "cell_type": "code",
      "source": [
        "df.na.fill(0, subset=['Ventas']).show()"
      ],
      "metadata": {
        "colab": {
          "base_uri": "https://localhost:8080/"
        },
        "id": "b7wy0rOpZPUA",
        "outputId": "f5fb0f12-f370-48d7-d33c-3a1d34f6b70a"
      },
      "execution_count": 69,
      "outputs": [
        {
          "output_type": "stream",
          "name": "stdout",
          "text": [
            "+----+------+------+--------+\n",
            "|  Id|Nombre|Ventas|Clientes|\n",
            "+----+------+------+--------+\n",
            "|emp1|  John|     0|       3|\n",
            "|emp2|  NULL|     0|    NULL|\n",
            "|emp3|  NULL|   345|    NULL|\n",
            "|emp4| Cindy|   456|       4|\n",
            "+----+------+------+--------+\n",
            "\n"
          ]
        }
      ]
    },
    {
      "cell_type": "markdown",
      "source": [
        "**Imputar la media**"
      ],
      "metadata": {
        "id": "vcZPngLjZbH5"
      }
    },
    {
      "cell_type": "code",
      "source": [
        "from pyspark.sql.functions import mean"
      ],
      "metadata": {
        "id": "7suuRKsWZW66"
      },
      "execution_count": 70,
      "outputs": []
    },
    {
      "cell_type": "code",
      "source": [
        "media = df.select(mean(df['Ventas'])).collect()"
      ],
      "metadata": {
        "id": "dpZRQ_CWZiH5"
      },
      "execution_count": 71,
      "outputs": []
    },
    {
      "cell_type": "code",
      "source": [
        "media[0][0]"
      ],
      "metadata": {
        "colab": {
          "base_uri": "https://localhost:8080/"
        },
        "id": "ep1FkwE9ZoN1",
        "outputId": "632dbb3f-c7f6-4539-eecb-a51d97fff41c"
      },
      "execution_count": 72,
      "outputs": [
        {
          "output_type": "execute_result",
          "data": {
            "text/plain": [
              "400.5"
            ]
          },
          "metadata": {},
          "execution_count": 72
        }
      ]
    },
    {
      "cell_type": "code",
      "source": [
        "df.na.fill(media[0][0], subset=['Ventas']).show()"
      ],
      "metadata": {
        "colab": {
          "base_uri": "https://localhost:8080/"
        },
        "id": "7KV14RiUaoil",
        "outputId": "a1996466-709b-48e5-9986-b1571eee4eb6"
      },
      "execution_count": 73,
      "outputs": [
        {
          "output_type": "stream",
          "name": "stdout",
          "text": [
            "+----+------+------+--------+\n",
            "|  Id|Nombre|Ventas|Clientes|\n",
            "+----+------+------+--------+\n",
            "|emp1|  John|   400|       3|\n",
            "|emp2|  NULL|   400|    NULL|\n",
            "|emp3|  NULL|   345|    NULL|\n",
            "|emp4| Cindy|   456|       4|\n",
            "+----+------+------+--------+\n",
            "\n"
          ]
        }
      ]
    },
    {
      "cell_type": "markdown",
      "source": [
        "# **Spark SQL Fecha y Tiempo**"
      ],
      "metadata": {
        "id": "utlSLoDia5Nq"
      }
    },
    {
      "cell_type": "code",
      "source": [
        "from pyspark.sql import SparkSession"
      ],
      "metadata": {
        "id": "ZBb87bcGVMpO"
      },
      "execution_count": 73,
      "outputs": []
    },
    {
      "cell_type": "code",
      "source": [
        "spark = SparkSession.builder.appName('fecha').getOrCreate()"
      ],
      "metadata": {
        "id": "2LbNpZIlVgvQ"
      },
      "execution_count": 74,
      "outputs": []
    },
    {
      "cell_type": "code",
      "source": [
        "df = spark.read.csv('/content/drive/MyDrive/dataset/AAPL.csv', inferSchema=True, header=True)"
      ],
      "metadata": {
        "id": "anHvQ5rXVg4D"
      },
      "execution_count": 75,
      "outputs": []
    },
    {
      "cell_type": "code",
      "source": [
        "df.head(1)"
      ],
      "metadata": {
        "colab": {
          "base_uri": "https://localhost:8080/"
        },
        "id": "3kyslQPGVtEV",
        "outputId": "6fb690fc-5fe7-42ad-f88b-ab5265d23644"
      },
      "execution_count": 76,
      "outputs": [
        {
          "output_type": "execute_result",
          "data": {
            "text/plain": [
              "[Row(Date=datetime.date(2010, 1, 4), Open=30.49, High=30.642857, Low=30.34, Close=30.572857, Adj Close=26.466835, Volume=123432400)]"
            ]
          },
          "metadata": {},
          "execution_count": 76
        }
      ]
    },
    {
      "cell_type": "code",
      "source": [
        "df.show()"
      ],
      "metadata": {
        "colab": {
          "base_uri": "https://localhost:8080/"
        },
        "id": "PPz49TkhVyYI",
        "outputId": "e1d84002-68c2-44f6-a400-564124e0d543"
      },
      "execution_count": 77,
      "outputs": [
        {
          "output_type": "stream",
          "name": "stdout",
          "text": [
            "+----------+---------+---------+---------+---------+---------+---------+\n",
            "|      Date|     Open|     High|      Low|    Close|Adj Close|   Volume|\n",
            "+----------+---------+---------+---------+---------+---------+---------+\n",
            "|2010-01-04|    30.49|30.642857|    30.34|30.572857|26.466835|123432400|\n",
            "|2010-01-05|30.657143|30.798571|30.464285|30.625713|26.512596|150476200|\n",
            "|2010-01-06|30.625713|30.747143|30.107143|30.138571|26.090879|138040000|\n",
            "|2010-01-07|    30.25|30.285715|29.864286|30.082857|26.042646|119282800|\n",
            "|2010-01-08|30.042856|30.285715|29.865715|30.282858|26.215786|111902700|\n",
            "|2010-01-11|     30.4|30.428572|29.778572|30.015715|25.984528|115557400|\n",
            "|2010-01-12|29.884285|29.967142|29.488571|29.674286|25.688946|148614900|\n",
            "|2010-01-13|29.695715|30.132856|29.157143|30.092857|26.051304|151473000|\n",
            "|2010-01-14|30.015715|30.065714|29.860001|29.918571|25.900436|108223500|\n",
            "|2010-01-15|30.132856|30.228571|    29.41|29.418571|25.467583|148516900|\n",
            "|2010-01-19|29.761429|30.741428|29.605715|30.719999|26.594227|182501900|\n",
            "|2010-01-20|30.701429|30.792856|29.928572|30.247143| 26.18487|153038200|\n",
            "|2010-01-21|30.297142|30.472857|29.601429|29.724285|25.732233|152038600|\n",
            "|2010-01-22|29.540001|29.642857|28.165714|    28.25|24.455948|220441900|\n",
            "|2010-01-25|    28.93|29.242857|28.598572|    29.01|25.113882|266424900|\n",
            "|2010-01-26|29.421429|30.530001|28.940001|    29.42|25.468813|466777500|\n",
            "|2010-01-27|29.549999|30.082857|28.504286|29.697144|25.708735|430642100|\n",
            "|2010-01-28|29.275715|29.357143|28.385714|28.469999|24.646406|293375600|\n",
            "|2010-01-29|28.725714|28.885714|27.178572|27.437143| 23.75227|311488100|\n",
            "|2010-02-01|27.481428|     28.0|27.328571|27.818571|24.082464|187469100|\n",
            "+----------+---------+---------+---------+---------+---------+---------+\n",
            "only showing top 20 rows\n",
            "\n"
          ]
        }
      ]
    },
    {
      "cell_type": "code",
      "source": [
        "from pyspark.sql.functions import format_number, dayofmonth, hour, dayofyear, month, year, weekofyear, date_format"
      ],
      "metadata": {
        "id": "vjGOvyNVV2Xa"
      },
      "execution_count": 78,
      "outputs": []
    },
    {
      "cell_type": "code",
      "source": [
        "df.select(dayofmonth(df['Date'])).show()"
      ],
      "metadata": {
        "colab": {
          "base_uri": "https://localhost:8080/"
        },
        "id": "Aba4z3Y-V8cn",
        "outputId": "4f4a3d4e-9de5-4028-c988-b7f5afd76721"
      },
      "execution_count": 79,
      "outputs": [
        {
          "output_type": "stream",
          "name": "stdout",
          "text": [
            "+----------------+\n",
            "|dayofmonth(Date)|\n",
            "+----------------+\n",
            "|               4|\n",
            "|               5|\n",
            "|               6|\n",
            "|               7|\n",
            "|               8|\n",
            "|              11|\n",
            "|              12|\n",
            "|              13|\n",
            "|              14|\n",
            "|              15|\n",
            "|              19|\n",
            "|              20|\n",
            "|              21|\n",
            "|              22|\n",
            "|              25|\n",
            "|              26|\n",
            "|              27|\n",
            "|              28|\n",
            "|              29|\n",
            "|               1|\n",
            "+----------------+\n",
            "only showing top 20 rows\n",
            "\n"
          ]
        }
      ]
    },
    {
      "cell_type": "code",
      "source": [
        "df.select(hour(df['Date'])).show()"
      ],
      "metadata": {
        "colab": {
          "base_uri": "https://localhost:8080/"
        },
        "id": "EfvtiM0nWJe7",
        "outputId": "8b2fd433-1524-458e-e332-63cf537c4889"
      },
      "execution_count": 80,
      "outputs": [
        {
          "output_type": "stream",
          "name": "stdout",
          "text": [
            "+----------+\n",
            "|hour(Date)|\n",
            "+----------+\n",
            "|         0|\n",
            "|         0|\n",
            "|         0|\n",
            "|         0|\n",
            "|         0|\n",
            "|         0|\n",
            "|         0|\n",
            "|         0|\n",
            "|         0|\n",
            "|         0|\n",
            "|         0|\n",
            "|         0|\n",
            "|         0|\n",
            "|         0|\n",
            "|         0|\n",
            "|         0|\n",
            "|         0|\n",
            "|         0|\n",
            "|         0|\n",
            "|         0|\n",
            "+----------+\n",
            "only showing top 20 rows\n",
            "\n"
          ]
        }
      ]
    },
    {
      "cell_type": "code",
      "source": [
        "df.select(dayofyear(df['Date'])).show()"
      ],
      "metadata": {
        "colab": {
          "base_uri": "https://localhost:8080/"
        },
        "id": "XyoinblXWLaL",
        "outputId": "9570c0ee-8b41-4c2c-b450-dcb6f41d9a38"
      },
      "execution_count": 81,
      "outputs": [
        {
          "output_type": "stream",
          "name": "stdout",
          "text": [
            "+---------------+\n",
            "|dayofyear(Date)|\n",
            "+---------------+\n",
            "|              4|\n",
            "|              5|\n",
            "|              6|\n",
            "|              7|\n",
            "|              8|\n",
            "|             11|\n",
            "|             12|\n",
            "|             13|\n",
            "|             14|\n",
            "|             15|\n",
            "|             19|\n",
            "|             20|\n",
            "|             21|\n",
            "|             22|\n",
            "|             25|\n",
            "|             26|\n",
            "|             27|\n",
            "|             28|\n",
            "|             29|\n",
            "|             32|\n",
            "+---------------+\n",
            "only showing top 20 rows\n",
            "\n"
          ]
        }
      ]
    },
    {
      "cell_type": "markdown",
      "source": [
        "Ejercicio\n",
        "Muestra un dataframe de la media de open por año"
      ],
      "metadata": {
        "id": "rEn6Ft_OW-vF"
      }
    },
    {
      "cell_type": "code",
      "source": [
        "df.select(year(df['Date'])).show()"
      ],
      "metadata": {
        "colab": {
          "base_uri": "https://localhost:8080/"
        },
        "id": "Bf3pLEXnWOnJ",
        "outputId": "94f7b26a-f864-4144-b82e-a37fa5e7db19"
      },
      "execution_count": 83,
      "outputs": [
        {
          "output_type": "stream",
          "name": "stdout",
          "text": [
            "+----------+\n",
            "|year(Date)|\n",
            "+----------+\n",
            "|      2010|\n",
            "|      2010|\n",
            "|      2010|\n",
            "|      2010|\n",
            "|      2010|\n",
            "|      2010|\n",
            "|      2010|\n",
            "|      2010|\n",
            "|      2010|\n",
            "|      2010|\n",
            "|      2010|\n",
            "|      2010|\n",
            "|      2010|\n",
            "|      2010|\n",
            "|      2010|\n",
            "|      2010|\n",
            "|      2010|\n",
            "|      2010|\n",
            "|      2010|\n",
            "|      2010|\n",
            "+----------+\n",
            "only showing top 20 rows\n",
            "\n"
          ]
        }
      ]
    },
    {
      "cell_type": "code",
      "source": [
        "df_nuevo = df.withColumn('year', (year(df['Date'])))"
      ],
      "metadata": {
        "id": "r8yZc_EpYNOr"
      },
      "execution_count": 84,
      "outputs": []
    },
    {
      "cell_type": "code",
      "source": [
        "df_nuevo.show()"
      ],
      "metadata": {
        "colab": {
          "base_uri": "https://localhost:8080/"
        },
        "id": "3PweaezBYdvr",
        "outputId": "1f39b9ff-e97c-4dda-b788-ae90d258ff29"
      },
      "execution_count": 85,
      "outputs": [
        {
          "output_type": "stream",
          "name": "stdout",
          "text": [
            "+----------+---------+---------+---------+---------+---------+---------+----+\n",
            "|      Date|     Open|     High|      Low|    Close|Adj Close|   Volume|year|\n",
            "+----------+---------+---------+---------+---------+---------+---------+----+\n",
            "|2010-01-04|    30.49|30.642857|    30.34|30.572857|26.466835|123432400|2010|\n",
            "|2010-01-05|30.657143|30.798571|30.464285|30.625713|26.512596|150476200|2010|\n",
            "|2010-01-06|30.625713|30.747143|30.107143|30.138571|26.090879|138040000|2010|\n",
            "|2010-01-07|    30.25|30.285715|29.864286|30.082857|26.042646|119282800|2010|\n",
            "|2010-01-08|30.042856|30.285715|29.865715|30.282858|26.215786|111902700|2010|\n",
            "|2010-01-11|     30.4|30.428572|29.778572|30.015715|25.984528|115557400|2010|\n",
            "|2010-01-12|29.884285|29.967142|29.488571|29.674286|25.688946|148614900|2010|\n",
            "|2010-01-13|29.695715|30.132856|29.157143|30.092857|26.051304|151473000|2010|\n",
            "|2010-01-14|30.015715|30.065714|29.860001|29.918571|25.900436|108223500|2010|\n",
            "|2010-01-15|30.132856|30.228571|    29.41|29.418571|25.467583|148516900|2010|\n",
            "|2010-01-19|29.761429|30.741428|29.605715|30.719999|26.594227|182501900|2010|\n",
            "|2010-01-20|30.701429|30.792856|29.928572|30.247143| 26.18487|153038200|2010|\n",
            "|2010-01-21|30.297142|30.472857|29.601429|29.724285|25.732233|152038600|2010|\n",
            "|2010-01-22|29.540001|29.642857|28.165714|    28.25|24.455948|220441900|2010|\n",
            "|2010-01-25|    28.93|29.242857|28.598572|    29.01|25.113882|266424900|2010|\n",
            "|2010-01-26|29.421429|30.530001|28.940001|    29.42|25.468813|466777500|2010|\n",
            "|2010-01-27|29.549999|30.082857|28.504286|29.697144|25.708735|430642100|2010|\n",
            "|2010-01-28|29.275715|29.357143|28.385714|28.469999|24.646406|293375600|2010|\n",
            "|2010-01-29|28.725714|28.885714|27.178572|27.437143| 23.75227|311488100|2010|\n",
            "|2010-02-01|27.481428|     28.0|27.328571|27.818571|24.082464|187469100|2010|\n",
            "+----------+---------+---------+---------+---------+---------+---------+----+\n",
            "only showing top 20 rows\n",
            "\n"
          ]
        }
      ]
    },
    {
      "cell_type": "code",
      "source": [
        "resultado = df_nuevo.groupBy('year').mean().select(['year', 'avg(Open)'])"
      ],
      "metadata": {
        "id": "jQwCUbnmYiz6"
      },
      "execution_count": 86,
      "outputs": []
    },
    {
      "cell_type": "code",
      "source": [
        "resultado.show()"
      ],
      "metadata": {
        "colab": {
          "base_uri": "https://localhost:8080/"
        },
        "id": "5dg5shLyY0M6",
        "outputId": "8c6524d2-c0ee-4a7d-d0c8-1e4da167f50a"
      },
      "execution_count": 87,
      "outputs": [
        {
          "output_type": "stream",
          "name": "stdout",
          "text": [
            "+----+------------------+\n",
            "|year|         avg(Open)|\n",
            "+----+------------------+\n",
            "|2018|189.11143456573691|\n",
            "|2015|120.17575393253965|\n",
            "|2013| 67.58973367460315|\n",
            "|2014| 92.21983011507933|\n",
            "|2019|207.86908675793657|\n",
            "|2020|300.64314603225813|\n",
            "|2012| 82.37896010000001|\n",
            "|2016|104.50777772619044|\n",
            "|2010| 37.13680271825399|\n",
            "|2011|52.008775376984104|\n",
            "|2017|150.44490045816727|\n",
            "+----+------------------+\n",
            "\n"
          ]
        }
      ]
    },
    {
      "cell_type": "code",
      "source": [
        "resultado.select('Year',format_number('avg(Open)', 2).alias('Media Open')).orderBy(resultado['Year']).show()"
      ],
      "metadata": {
        "colab": {
          "base_uri": "https://localhost:8080/"
        },
        "id": "ss2qzRLQY5Ix",
        "outputId": "2e8ca907-abda-4706-db6d-77dfc9bc26cc"
      },
      "execution_count": 90,
      "outputs": [
        {
          "output_type": "stream",
          "name": "stdout",
          "text": [
            "+----+----------+\n",
            "|Year|Media Open|\n",
            "+----+----------+\n",
            "|2010|     37.14|\n",
            "|2011|     52.01|\n",
            "|2012|     82.38|\n",
            "|2013|     67.59|\n",
            "|2014|     92.22|\n",
            "|2015|    120.18|\n",
            "|2016|    104.51|\n",
            "|2017|    150.44|\n",
            "|2018|    189.11|\n",
            "|2019|    207.87|\n",
            "|2020|    300.64|\n",
            "+----+----------+\n",
            "\n"
          ]
        }
      ]
    }
  ]
}
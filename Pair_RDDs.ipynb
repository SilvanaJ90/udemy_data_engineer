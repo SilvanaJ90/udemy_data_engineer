{
  "nbformat": 4,
  "nbformat_minor": 0,
  "metadata": {
    "colab": {
      "provenance": [],
      "mount_file_id": "15xeh5vt_muji5jbxRHq0L_DYZgnK_5jw",
      "authorship_tag": "ABX9TyMjMKmiJtEWw3wUlXXxirWt",
      "include_colab_link": true
    },
    "kernelspec": {
      "name": "python3",
      "display_name": "Python 3"
    },
    "language_info": {
      "name": "python"
    }
  },
  "cells": [
    {
      "cell_type": "markdown",
      "metadata": {
        "id": "view-in-github",
        "colab_type": "text"
      },
      "source": [
        "<a href=\"https://colab.research.google.com/github/SilvanaJ90/udemy_data_engineer/blob/main/Pair_RDDs.ipynb\" target=\"_parent\"><img src=\"https://colab.research.google.com/assets/colab-badge.svg\" alt=\"Open In Colab\"/></a>"
      ]
    },
    {
      "cell_type": "code",
      "execution_count": 3,
      "metadata": {
        "colab": {
          "base_uri": "https://localhost:8080/"
        },
        "id": "k0BxpKQDFg_c",
        "outputId": "338ec574-c148-4ab1-9c30-7e4114e4e557"
      },
      "outputs": [
        {
          "output_type": "stream",
          "name": "stdout",
          "text": [
            "Collecting pyspark\n",
            "  Downloading pyspark-3.5.1.tar.gz (317.0 MB)\n",
            "\u001b[2K     \u001b[90m━━━━━━━━━━━━━━━━━━━━━━━━━━━━━━━━━━━━━━━━\u001b[0m \u001b[32m317.0/317.0 MB\u001b[0m \u001b[31m2.6 MB/s\u001b[0m eta \u001b[36m0:00:00\u001b[0m\n",
            "\u001b[?25h  Preparing metadata (setup.py) ... \u001b[?25l\u001b[?25hdone\n",
            "Requirement already satisfied: py4j==0.10.9.7 in /usr/local/lib/python3.10/dist-packages (from pyspark) (0.10.9.7)\n",
            "Building wheels for collected packages: pyspark\n",
            "  Building wheel for pyspark (setup.py) ... \u001b[?25l\u001b[?25hdone\n",
            "  Created wheel for pyspark: filename=pyspark-3.5.1-py2.py3-none-any.whl size=317488491 sha256=ac28bc048ebc8c43cedfee5d6a3848b6b588c33f203e682b5c090376720b222e\n",
            "  Stored in directory: /root/.cache/pip/wheels/80/1d/60/2c256ed38dddce2fdd93be545214a63e02fbd8d74fb0b7f3a6\n",
            "Successfully built pyspark\n",
            "Installing collected packages: pyspark\n",
            "Successfully installed pyspark-3.5.1\n"
          ]
        }
      ],
      "source": [
        "pip install pyspark"
      ]
    },
    {
      "cell_type": "code",
      "source": [
        "from pyspark import SparkContext"
      ],
      "metadata": {
        "id": "qqbgkgoyFphi"
      },
      "execution_count": 4,
      "outputs": []
    },
    {
      "cell_type": "code",
      "source": [
        "sc = SparkContext()"
      ],
      "metadata": {
        "id": "-AWTEOgNFtZy"
      },
      "execution_count": 5,
      "outputs": []
    },
    {
      "cell_type": "markdown",
      "source": [
        "**Creando un Pair RDD a partir de una lista de tuplas**"
      ],
      "metadata": {
        "id": "6t_tf-ltFxDp"
      }
    },
    {
      "cell_type": "code",
      "source": [
        "lista_tuplas = [('a', 1), ('b', 2), ('c', 3)]"
      ],
      "metadata": {
        "id": "XsIchHd5Fv1r"
      },
      "execution_count": 6,
      "outputs": []
    },
    {
      "cell_type": "code",
      "source": [
        "lista_tuplas"
      ],
      "metadata": {
        "colab": {
          "base_uri": "https://localhost:8080/"
        },
        "id": "s0OJG7myGJW7",
        "outputId": "748d4f38-6a9e-43e9-cf0d-a4a014713220"
      },
      "execution_count": 7,
      "outputs": [
        {
          "output_type": "execute_result",
          "data": {
            "text/plain": [
              "[('a', 1), ('b', 2), ('c', 3)]"
            ]
          },
          "metadata": {},
          "execution_count": 7
        }
      ]
    },
    {
      "cell_type": "code",
      "source": [
        "pair_rdd = sc.parallelize(lista_tuplas)"
      ],
      "metadata": {
        "id": "oLWyEvPUGMSo"
      },
      "execution_count": 8,
      "outputs": []
    },
    {
      "cell_type": "code",
      "source": [
        "pair_rdd.collect()"
      ],
      "metadata": {
        "colab": {
          "base_uri": "https://localhost:8080/"
        },
        "id": "ReFVoFcJGQUX",
        "outputId": "e83d1849-4c23-4d0b-f5f3-07f1419508b6"
      },
      "execution_count": 9,
      "outputs": [
        {
          "output_type": "execute_result",
          "data": {
            "text/plain": [
              "[('a', 1), ('b', 2), ('c', 3)]"
            ]
          },
          "metadata": {},
          "execution_count": 9
        }
      ]
    },
    {
      "cell_type": "markdown",
      "source": [
        "**Utilizando zip()**"
      ],
      "metadata": {
        "id": "2irurjMaGX37"
      }
    },
    {
      "cell_type": "code",
      "source": [
        "pair_rdd2 = sc.parallelize(zip((['a', 'b', 'c']), range(1,4,1))) #start, stop, range"
      ],
      "metadata": {
        "id": "ASlcJsEQGbBC"
      },
      "execution_count": 10,
      "outputs": []
    },
    {
      "cell_type": "code",
      "source": [
        "pair_rdd2.collect()"
      ],
      "metadata": {
        "colab": {
          "base_uri": "https://localhost:8080/"
        },
        "id": "apyl4DeXGWsU",
        "outputId": "ac868111-be33-40d2-f64e-f9518727d181"
      },
      "execution_count": 11,
      "outputs": [
        {
          "output_type": "execute_result",
          "data": {
            "text/plain": [
              "[('a', 1), ('b', 2), ('c', 3)]"
            ]
          },
          "metadata": {},
          "execution_count": 11
        }
      ]
    },
    {
      "cell_type": "markdown",
      "source": [
        "Ejemplo utilizando un archivo"
      ],
      "metadata": {
        "id": "DjtH8OhOHVFY"
      }
    },
    {
      "cell_type": "code",
      "source": [
        "rdd_celestina = sc.textFile('/content/drive/MyDrive/dataset/La+Celestina.txt')"
      ],
      "metadata": {
        "id": "Z-5mZHWRI9Lc"
      },
      "execution_count": 14,
      "outputs": []
    },
    {
      "cell_type": "code",
      "source": [
        "rdd_celestina.map(lambda x: (x.split(\" \")[0],x))"
      ],
      "metadata": {
        "colab": {
          "base_uri": "https://localhost:8080/"
        },
        "id": "gSIecQrmLMk8",
        "outputId": "f96f4573-d910-4933-ec4f-b1e662e8776b"
      },
      "execution_count": 16,
      "outputs": [
        {
          "output_type": "execute_result",
          "data": {
            "text/plain": [
              "PythonRDD[6] at RDD at PythonRDD.scala:53"
            ]
          },
          "metadata": {},
          "execution_count": 16
        }
      ]
    },
    {
      "cell_type": "code",
      "source": [
        "rdd_celestina.takeSample(False, 15)"
      ],
      "metadata": {
        "colab": {
          "base_uri": "https://localhost:8080/"
        },
        "id": "eu-PULa_Mjiw",
        "outputId": "d8a7117f-c3ce-4381-f0cb-57a766131fa6"
      },
      "execution_count": 17,
      "outputs": [
        {
          "output_type": "execute_result",
          "data": {
            "text/plain": [
              "['Buelue a su proposito.',\n",
              " 'loadas e manifiestas virtudes.  Pues, o alto dios! como te podre',\n",
              " 'If you discover a Defect in this etext within 90 days of',\n",
              " 'se le acelera el parto... Quemado y bebido con',\n",
              " 'jactose con alas de su perdicion',\n",
              " 'CEL.--digo, senora, que todos lo agradescemos e seruiremos: e',\n",
              " '',\n",
              " 'no obren las manos quanto pueden: esta quedo senor mio.  \"Bastete',\n",
              " '',\n",
              " 'martilogio de pe a pa: el brazo me tiembla de lo que por ella',\n",
              " '\"Refr. que ensena lo presto que se olvida lo que no es',\n",
              " 'MELIB.--Lucrecia, vente aca, que estoy sola: aquel senor mio es',\n",
              " 'a la mesa que escanciar.  porque quien la miel trata, siempre se',\n",
              " 'CEL.--Parmeno, hijo, despues de las passadas razones: no he hauido',\n",
              " 'million dollars per hour this year we, will have to do four text']"
            ]
          },
          "metadata": {},
          "execution_count": 17
        }
      ]
    },
    {
      "cell_type": "markdown",
      "source": [
        "**Keyby()**"
      ],
      "metadata": {
        "id": "rAYy-2GNMy0f"
      }
    },
    {
      "cell_type": "code",
      "source": [
        "rdd = sc.parallelize(range(5))"
      ],
      "metadata": {
        "id": "XSDs3v6rMwD-"
      },
      "execution_count": 18,
      "outputs": []
    },
    {
      "cell_type": "code",
      "source": [
        "rdd.collect()"
      ],
      "metadata": {
        "colab": {
          "base_uri": "https://localhost:8080/"
        },
        "id": "84lO1uz0Nh0I",
        "outputId": "df620248-935c-4edd-8f5d-38601bb2c8af"
      },
      "execution_count": 19,
      "outputs": [
        {
          "output_type": "execute_result",
          "data": {
            "text/plain": [
              "[0, 1, 2, 3, 4]"
            ]
          },
          "metadata": {},
          "execution_count": 19
        }
      ]
    },
    {
      "cell_type": "code",
      "source": [
        "pair_rdd = rdd.keyBy(lambda x: x+2)"
      ],
      "metadata": {
        "id": "p2xCOlB1Nk6O"
      },
      "execution_count": 20,
      "outputs": []
    },
    {
      "cell_type": "code",
      "source": [
        "pair_rdd.collect()"
      ],
      "metadata": {
        "colab": {
          "base_uri": "https://localhost:8080/"
        },
        "id": "FdqvYQQUNqvz",
        "outputId": "c126b4e2-a7ab-465f-dd88-a6c1ad754c68"
      },
      "execution_count": 21,
      "outputs": [
        {
          "output_type": "execute_result",
          "data": {
            "text/plain": [
              "[(2, 0), (3, 1), (4, 2), (5, 3), (6, 4)]"
            ]
          },
          "metadata": {},
          "execution_count": 21
        }
      ]
    },
    {
      "cell_type": "markdown",
      "source": [
        "**zipWithIndex()**"
      ],
      "metadata": {
        "id": "EAk-0jx4NzRH"
      }
    },
    {
      "cell_type": "code",
      "source": [
        "rdd = sc.parallelize(['a','b','c','d','e'])"
      ],
      "metadata": {
        "id": "Mfy3QCq9N13j"
      },
      "execution_count": 23,
      "outputs": []
    },
    {
      "cell_type": "code",
      "source": [
        "pair_rdd = rdd.zipWithIndex()"
      ],
      "metadata": {
        "id": "zSp6MsOIOKu2"
      },
      "execution_count": 24,
      "outputs": []
    },
    {
      "cell_type": "code",
      "source": [
        "pair_rdd.collect()"
      ],
      "metadata": {
        "colab": {
          "base_uri": "https://localhost:8080/"
        },
        "id": "zV_3abl_OPBJ",
        "outputId": "d278b1ed-1dd0-483d-efa5-bad30ff97394"
      },
      "execution_count": 25,
      "outputs": [
        {
          "output_type": "execute_result",
          "data": {
            "text/plain": [
              "[('a', 0), ('b', 1), ('c', 2), ('d', 3), ('e', 4)]"
            ]
          },
          "metadata": {},
          "execution_count": 25
        }
      ]
    },
    {
      "cell_type": "markdown",
      "source": [
        "**zipWithUniqueld()**"
      ],
      "metadata": {
        "id": "2FDenDzfPGoN"
      }
    },
    {
      "cell_type": "code",
      "source": [
        "rdd.zipWithUniqueId().glom().collect()"
      ],
      "metadata": {
        "colab": {
          "base_uri": "https://localhost:8080/"
        },
        "id": "5EjUldpNPKpq",
        "outputId": "0fe844e4-8578-4efa-fa1e-3e4fe81599c6"
      },
      "execution_count": 29,
      "outputs": [
        {
          "output_type": "execute_result",
          "data": {
            "text/plain": [
              "[[('a', 0), ('b', 2)], [('c', 1), ('d', 3), ('e', 5)]]"
            ]
          },
          "metadata": {},
          "execution_count": 29
        }
      ]
    },
    {
      "cell_type": "markdown",
      "source": [
        "**zip() con dos RDDs**"
      ],
      "metadata": {
        "id": "IlLPtPxbQCPl"
      }
    },
    {
      "cell_type": "code",
      "source": [
        "rdd1 = sc.parallelize(range(5),3)"
      ],
      "metadata": {
        "id": "Vw_KNYOBPfGw"
      },
      "execution_count": 30,
      "outputs": []
    },
    {
      "cell_type": "code",
      "source": [
        "rdd2 = sc.parallelize(range(100, 105, 1) ,3)"
      ],
      "metadata": {
        "id": "mXIqMmwiQOCM"
      },
      "execution_count": 31,
      "outputs": []
    },
    {
      "cell_type": "code",
      "source": [
        "rdd1.glom().collect()"
      ],
      "metadata": {
        "colab": {
          "base_uri": "https://localhost:8080/"
        },
        "id": "kvPzzYToQWoh",
        "outputId": "6e108a08-5875-4b00-fd1f-1c3a7fc33543"
      },
      "execution_count": 32,
      "outputs": [
        {
          "output_type": "execute_result",
          "data": {
            "text/plain": [
              "[[0], [1, 2], [3, 4]]"
            ]
          },
          "metadata": {},
          "execution_count": 32
        }
      ]
    },
    {
      "cell_type": "code",
      "source": [
        "rdd2.glom().collect()"
      ],
      "metadata": {
        "colab": {
          "base_uri": "https://localhost:8080/"
        },
        "id": "6Z-0zCoQQfE7",
        "outputId": "982cef94-d1e4-4647-f67c-ff1d2ab0a23e"
      },
      "execution_count": 33,
      "outputs": [
        {
          "output_type": "execute_result",
          "data": {
            "text/plain": [
              "[[100], [101, 102], [103, 104]]"
            ]
          },
          "metadata": {},
          "execution_count": 33
        }
      ]
    },
    {
      "cell_type": "code",
      "source": [
        "pair_rdd = rdd1.zip(rdd2)"
      ],
      "metadata": {
        "id": "0ScosdoeQkPq"
      },
      "execution_count": 34,
      "outputs": []
    },
    {
      "cell_type": "code",
      "source": [
        "pair_rdd.collect()"
      ],
      "metadata": {
        "colab": {
          "base_uri": "https://localhost:8080/"
        },
        "id": "GMtvjfdZQoHS",
        "outputId": "4b4c2045-11b9-4f18-ab51-e1ab450402de"
      },
      "execution_count": 35,
      "outputs": [
        {
          "output_type": "execute_result",
          "data": {
            "text/plain": [
              "[(0, 100), (1, 101), (2, 102), (3, 103), (4, 104)]"
            ]
          },
          "metadata": {},
          "execution_count": 35
        }
      ]
    }
  ]
}
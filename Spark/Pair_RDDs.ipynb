{
  "nbformat": 4,
  "nbformat_minor": 0,
  "metadata": {
    "colab": {
      "provenance": [],
      "mount_file_id": "15xeh5vt_muji5jbxRHq0L_DYZgnK_5jw",
      "authorship_tag": "ABX9TyPkhFplG7zgir22uVq8SJTm",
      "include_colab_link": true
    },
    "kernelspec": {
      "name": "python3",
      "display_name": "Python 3"
    },
    "language_info": {
      "name": "python"
    }
  },
  "cells": [
    {
      "cell_type": "markdown",
      "metadata": {
        "id": "view-in-github",
        "colab_type": "text"
      },
      "source": [
        "<a href=\"https://colab.research.google.com/github/SilvanaJ90/udemy_data_engineer/blob/main/Pair_RDDs.ipynb\" target=\"_parent\"><img src=\"https://colab.research.google.com/assets/colab-badge.svg\" alt=\"Open In Colab\"/></a>"
      ]
    },
    {
      "cell_type": "code",
      "execution_count": 6,
      "metadata": {
        "colab": {
          "base_uri": "https://localhost:8080/"
        },
        "id": "k0BxpKQDFg_c",
        "outputId": "15c70c30-c3f8-42a9-bf71-56ba5688e9ba"
      },
      "outputs": [
        {
          "output_type": "stream",
          "name": "stdout",
          "text": [
            "Requirement already satisfied: pyspark in /usr/local/lib/python3.10/dist-packages (3.5.1)\n",
            "Requirement already satisfied: py4j==0.10.9.7 in /usr/local/lib/python3.10/dist-packages (from pyspark) (0.10.9.7)\n"
          ]
        }
      ],
      "source": [
        "pip install pyspark"
      ]
    },
    {
      "cell_type": "code",
      "source": [
        "from pyspark import SparkContext"
      ],
      "metadata": {
        "id": "qqbgkgoyFphi"
      },
      "execution_count": 7,
      "outputs": []
    },
    {
      "cell_type": "code",
      "source": [
        "sc = SparkContext()"
      ],
      "metadata": {
        "id": "-AWTEOgNFtZy"
      },
      "execution_count": 5,
      "outputs": []
    },
    {
      "cell_type": "markdown",
      "source": [
        "**Creando un Pair RDD a partir de una lista de tuplas**"
      ],
      "metadata": {
        "id": "6t_tf-ltFxDp"
      }
    },
    {
      "cell_type": "code",
      "source": [
        "lista_tuplas = [('a', 1), ('b', 2), ('c', 3)]"
      ],
      "metadata": {
        "id": "XsIchHd5Fv1r"
      },
      "execution_count": 8,
      "outputs": []
    },
    {
      "cell_type": "code",
      "source": [
        "lista_tuplas"
      ],
      "metadata": {
        "colab": {
          "base_uri": "https://localhost:8080/"
        },
        "id": "s0OJG7myGJW7",
        "outputId": "4a3e6e72-e970-45ca-e15d-adc221b2dd88"
      },
      "execution_count": 9,
      "outputs": [
        {
          "output_type": "execute_result",
          "data": {
            "text/plain": [
              "[('a', 1), ('b', 2), ('c', 3)]"
            ]
          },
          "metadata": {},
          "execution_count": 9
        }
      ]
    },
    {
      "cell_type": "code",
      "source": [
        "pair_rdd = sc.parallelize(lista_tuplas)"
      ],
      "metadata": {
        "id": "oLWyEvPUGMSo"
      },
      "execution_count": 10,
      "outputs": []
    },
    {
      "cell_type": "code",
      "source": [
        "pair_rdd.collect()"
      ],
      "metadata": {
        "colab": {
          "base_uri": "https://localhost:8080/"
        },
        "id": "ReFVoFcJGQUX",
        "outputId": "80208f31-c405-4613-c1c6-13278b19e650"
      },
      "execution_count": 11,
      "outputs": [
        {
          "output_type": "execute_result",
          "data": {
            "text/plain": [
              "[('a', 1), ('b', 2), ('c', 3)]"
            ]
          },
          "metadata": {},
          "execution_count": 11
        }
      ]
    },
    {
      "cell_type": "markdown",
      "source": [
        "**Utilizando zip()**"
      ],
      "metadata": {
        "id": "2irurjMaGX37"
      }
    },
    {
      "cell_type": "code",
      "source": [
        "pair_rdd2 = sc.parallelize(zip((['a', 'b', 'c']), range(1,4,1))) #start, stop, range"
      ],
      "metadata": {
        "id": "ASlcJsEQGbBC"
      },
      "execution_count": 12,
      "outputs": []
    },
    {
      "cell_type": "code",
      "source": [
        "pair_rdd2.collect()"
      ],
      "metadata": {
        "colab": {
          "base_uri": "https://localhost:8080/"
        },
        "id": "apyl4DeXGWsU",
        "outputId": "29685e3c-cb63-4a21-a280-a60505ed2522"
      },
      "execution_count": 13,
      "outputs": [
        {
          "output_type": "execute_result",
          "data": {
            "text/plain": [
              "[('a', 1), ('b', 2), ('c', 3)]"
            ]
          },
          "metadata": {},
          "execution_count": 13
        }
      ]
    },
    {
      "cell_type": "markdown",
      "source": [
        "Ejemplo utilizando un archivo"
      ],
      "metadata": {
        "id": "DjtH8OhOHVFY"
      }
    },
    {
      "cell_type": "code",
      "source": [
        "rdd_celestina = sc.textFile('/content/drive/MyDrive/dataset/La+Celestina.txt')"
      ],
      "metadata": {
        "id": "Z-5mZHWRI9Lc"
      },
      "execution_count": 14,
      "outputs": []
    },
    {
      "cell_type": "code",
      "source": [
        "rdd_celestina.map(lambda x: (x.split(\" \")[0],x))"
      ],
      "metadata": {
        "colab": {
          "base_uri": "https://localhost:8080/"
        },
        "id": "gSIecQrmLMk8",
        "outputId": "c97e1381-866d-4933-89f8-c7b2ad2e7b5e"
      },
      "execution_count": 15,
      "outputs": [
        {
          "output_type": "execute_result",
          "data": {
            "text/plain": [
              "PythonRDD[4] at RDD at PythonRDD.scala:53"
            ]
          },
          "metadata": {},
          "execution_count": 15
        }
      ]
    },
    {
      "cell_type": "code",
      "source": [
        "rdd_celestina.takeSample(False, 15)"
      ],
      "metadata": {
        "colab": {
          "base_uri": "https://localhost:8080/"
        },
        "id": "eu-PULa_Mjiw",
        "outputId": "766f57dc-41ee-416c-aa9a-0e776abe2b75"
      },
      "execution_count": 16,
      "outputs": [
        {
          "output_type": "execute_result",
          "data": {
            "text/plain": [
              "['ni mas rara\": \"Amici veri maxime in adversis haerent:',\n",
              " '',\n",
              " '_Etor_ **** Hector, hijo de Priamo y Hecuba.  En \"La',\n",
              " '',\n",
              " '',\n",
              " '_incusarla, incusarnos, incuses_ **** incusar: acusar',\n",
              " 'alrededor de Pleberio cuando este da su discurso final). Y aunque',\n",
              " 'tan franco, que te dara para esso e para mas.',\n",
              " '_estimar_ **** juzgar, creer;',\n",
              " '',\n",
              " 'llaman ypocrita: que diran, sino que andas royendo los sanctos?',\n",
              " 'matriz (R-P, 159)',\n",
              " '_gozasse_ **** gozase',\n",
              " '',\n",
              " 'alegra el corazon cada vez que las veo: porque se que hablan']"
            ]
          },
          "metadata": {},
          "execution_count": 16
        }
      ]
    },
    {
      "cell_type": "markdown",
      "source": [
        "**Keyby()**"
      ],
      "metadata": {
        "id": "rAYy-2GNMy0f"
      }
    },
    {
      "cell_type": "code",
      "source": [
        "rdd = sc.parallelize(range(5))"
      ],
      "metadata": {
        "id": "XSDs3v6rMwD-"
      },
      "execution_count": 17,
      "outputs": []
    },
    {
      "cell_type": "code",
      "source": [
        "rdd.collect()"
      ],
      "metadata": {
        "colab": {
          "base_uri": "https://localhost:8080/"
        },
        "id": "84lO1uz0Nh0I",
        "outputId": "c5cb8bde-3d12-4691-b8f4-f6131b1bbc5d"
      },
      "execution_count": 18,
      "outputs": [
        {
          "output_type": "execute_result",
          "data": {
            "text/plain": [
              "[0, 1, 2, 3, 4]"
            ]
          },
          "metadata": {},
          "execution_count": 18
        }
      ]
    },
    {
      "cell_type": "code",
      "source": [
        "pair_rdd = rdd.keyBy(lambda x: x+2)"
      ],
      "metadata": {
        "id": "p2xCOlB1Nk6O"
      },
      "execution_count": 19,
      "outputs": []
    },
    {
      "cell_type": "code",
      "source": [
        "pair_rdd.collect()"
      ],
      "metadata": {
        "colab": {
          "base_uri": "https://localhost:8080/"
        },
        "id": "FdqvYQQUNqvz",
        "outputId": "49a7be9a-d770-4e8f-a1f9-9c9bcaf1f8fa"
      },
      "execution_count": 20,
      "outputs": [
        {
          "output_type": "execute_result",
          "data": {
            "text/plain": [
              "[(2, 0), (3, 1), (4, 2), (5, 3), (6, 4)]"
            ]
          },
          "metadata": {},
          "execution_count": 20
        }
      ]
    },
    {
      "cell_type": "markdown",
      "source": [
        "**zipWithIndex()**"
      ],
      "metadata": {
        "id": "EAk-0jx4NzRH"
      }
    },
    {
      "cell_type": "code",
      "source": [
        "rdd = sc.parallelize(['a','b','c','d','e'])"
      ],
      "metadata": {
        "id": "Mfy3QCq9N13j"
      },
      "execution_count": 21,
      "outputs": []
    },
    {
      "cell_type": "code",
      "source": [
        "pair_rdd = rdd.zipWithIndex()"
      ],
      "metadata": {
        "id": "zSp6MsOIOKu2"
      },
      "execution_count": 22,
      "outputs": []
    },
    {
      "cell_type": "code",
      "source": [
        "pair_rdd.collect()"
      ],
      "metadata": {
        "colab": {
          "base_uri": "https://localhost:8080/"
        },
        "id": "zV_3abl_OPBJ",
        "outputId": "f2d5e68d-b2c9-4fb8-c864-8907dd2bfa56"
      },
      "execution_count": 23,
      "outputs": [
        {
          "output_type": "execute_result",
          "data": {
            "text/plain": [
              "[('a', 0), ('b', 1), ('c', 2), ('d', 3), ('e', 4)]"
            ]
          },
          "metadata": {},
          "execution_count": 23
        }
      ]
    },
    {
      "cell_type": "markdown",
      "source": [
        "**zipWithUniqueld()**"
      ],
      "metadata": {
        "id": "2FDenDzfPGoN"
      }
    },
    {
      "cell_type": "code",
      "source": [
        "rdd.zipWithUniqueId().glom().collect()"
      ],
      "metadata": {
        "colab": {
          "base_uri": "https://localhost:8080/"
        },
        "id": "5EjUldpNPKpq",
        "outputId": "777b0060-7412-4bc3-d1e4-2cfd3f259bac"
      },
      "execution_count": 24,
      "outputs": [
        {
          "output_type": "execute_result",
          "data": {
            "text/plain": [
              "[[('a', 0), ('b', 2)], [('c', 1), ('d', 3), ('e', 5)]]"
            ]
          },
          "metadata": {},
          "execution_count": 24
        }
      ]
    },
    {
      "cell_type": "markdown",
      "source": [
        "**zip() con dos RDDs**"
      ],
      "metadata": {
        "id": "IlLPtPxbQCPl"
      }
    },
    {
      "cell_type": "code",
      "source": [
        "rdd1 = sc.parallelize(range(5),3)"
      ],
      "metadata": {
        "id": "Vw_KNYOBPfGw"
      },
      "execution_count": 25,
      "outputs": []
    },
    {
      "cell_type": "code",
      "source": [
        "rdd2 = sc.parallelize(range(100, 105, 1) ,3)"
      ],
      "metadata": {
        "id": "mXIqMmwiQOCM"
      },
      "execution_count": 26,
      "outputs": []
    },
    {
      "cell_type": "code",
      "source": [
        "rdd1.glom().collect()"
      ],
      "metadata": {
        "colab": {
          "base_uri": "https://localhost:8080/"
        },
        "id": "kvPzzYToQWoh",
        "outputId": "0a6b2c0e-aedb-4637-b5cc-51ad4ceee658"
      },
      "execution_count": 27,
      "outputs": [
        {
          "output_type": "execute_result",
          "data": {
            "text/plain": [
              "[[0], [1, 2], [3, 4]]"
            ]
          },
          "metadata": {},
          "execution_count": 27
        }
      ]
    },
    {
      "cell_type": "code",
      "source": [
        "rdd2.glom().collect()"
      ],
      "metadata": {
        "colab": {
          "base_uri": "https://localhost:8080/"
        },
        "id": "6Z-0zCoQQfE7",
        "outputId": "e3c1c21b-7e9e-4f1d-cd36-74f38189738b"
      },
      "execution_count": 28,
      "outputs": [
        {
          "output_type": "execute_result",
          "data": {
            "text/plain": [
              "[[100], [101, 102], [103, 104]]"
            ]
          },
          "metadata": {},
          "execution_count": 28
        }
      ]
    },
    {
      "cell_type": "code",
      "source": [
        "pair_rdd = rdd1.zip(rdd2)"
      ],
      "metadata": {
        "id": "0ScosdoeQkPq"
      },
      "execution_count": 29,
      "outputs": []
    },
    {
      "cell_type": "code",
      "source": [
        "pair_rdd.collect()"
      ],
      "metadata": {
        "colab": {
          "base_uri": "https://localhost:8080/"
        },
        "id": "GMtvjfdZQoHS",
        "outputId": "5504f536-b5f0-4feb-f4b4-1a5e079186b6"
      },
      "execution_count": 30,
      "outputs": [
        {
          "output_type": "execute_result",
          "data": {
            "text/plain": [
              "[(0, 100), (1, 101), (2, 102), (3, 103), (4, 104)]"
            ]
          },
          "metadata": {},
          "execution_count": 30
        }
      ]
    },
    {
      "cell_type": "markdown",
      "source": [
        "**Transformaciones de agregaciòn para pair RRDs**"
      ],
      "metadata": {
        "id": "JXWxGg_k6B9l"
      }
    },
    {
      "cell_type": "markdown",
      "source": [
        "reduceByKey() y folByKey() - son transformaciones y no acciones"
      ],
      "metadata": {
        "id": "9Tp-Drrp7BKh"
      }
    },
    {
      "cell_type": "code",
      "source": [
        "tupla = [('a', 1), ('b', 2), ('c', 3), ('a', 4), ('b', 5), ('c', 6),('c',7)]"
      ],
      "metadata": {
        "id": "XQsXr5Q166gp"
      },
      "execution_count": 37,
      "outputs": []
    },
    {
      "cell_type": "code",
      "source": [
        "pair_rdd = sc.parallelize(tupla)"
      ],
      "metadata": {
        "id": "ZREGXfFv7xq5"
      },
      "execution_count": 39,
      "outputs": []
    },
    {
      "cell_type": "code",
      "source": [
        "pair_rdd.collect()"
      ],
      "metadata": {
        "colab": {
          "base_uri": "https://localhost:8080/"
        },
        "id": "wBe9nubG76H4",
        "outputId": "037032e4-f97e-4588-c86c-3c01bf379165"
      },
      "execution_count": 40,
      "outputs": [
        {
          "output_type": "execute_result",
          "data": {
            "text/plain": [
              "[('a', 1), ('b', 2), ('c', 3), ('a', 4), ('b', 5), ('c', 6), ('c', 7)]"
            ]
          },
          "metadata": {},
          "execution_count": 40
        }
      ]
    },
    {
      "cell_type": "code",
      "source": [
        "from operator import add"
      ],
      "metadata": {
        "id": "0AjDNABk8WPD"
      },
      "execution_count": 41,
      "outputs": []
    },
    {
      "cell_type": "code",
      "source": [
        "rdd_reduce = pair_rdd.reduceByKey(add)"
      ],
      "metadata": {
        "id": "KTVglb9f8bqm"
      },
      "execution_count": 42,
      "outputs": []
    },
    {
      "cell_type": "code",
      "source": [
        "rdd_reduce.collect()"
      ],
      "metadata": {
        "colab": {
          "base_uri": "https://localhost:8080/"
        },
        "id": "yGTA6czR8fFV",
        "outputId": "7a771a55-9e1c-41fa-ca5d-6731b2378edc"
      },
      "execution_count": 43,
      "outputs": [
        {
          "output_type": "execute_result",
          "data": {
            "text/plain": [
              "[('b', 7), ('c', 16), ('a', 5)]"
            ]
          },
          "metadata": {},
          "execution_count": 43
        }
      ]
    },
    {
      "cell_type": "code",
      "source": [
        "rdd_fold = pair_rdd.foldByKey(0, add)"
      ],
      "metadata": {
        "id": "GuZCpNI688V_"
      },
      "execution_count": 44,
      "outputs": []
    },
    {
      "cell_type": "code",
      "source": [
        "rdd_fold.collect()"
      ],
      "metadata": {
        "colab": {
          "base_uri": "https://localhost:8080/"
        },
        "id": "GlCacEiK8_TQ",
        "outputId": "417d9fea-9be5-41d2-ee49-7df936743d98"
      },
      "execution_count": 45,
      "outputs": [
        {
          "output_type": "execute_result",
          "data": {
            "text/plain": [
              "[('b', 7), ('c', 16), ('a', 5)]"
            ]
          },
          "metadata": {},
          "execution_count": 45
        }
      ]
    },
    {
      "cell_type": "markdown",
      "source": [
        "groupByKey - es costoso - agrupa valores para cada clave"
      ],
      "metadata": {
        "id": "f-PXVddg9DXv"
      }
    },
    {
      "cell_type": "code",
      "source": [
        "rdd_group = pair_rdd.groupByKey()"
      ],
      "metadata": {
        "id": "kiTIvn4W9Gaf"
      },
      "execution_count": 46,
      "outputs": []
    },
    {
      "cell_type": "code",
      "source": [
        "rdd_group.collect()"
      ],
      "metadata": {
        "colab": {
          "base_uri": "https://localhost:8080/"
        },
        "id": "1Gr_GEgc9CPk",
        "outputId": "6abd4bf0-0590-4609-eb87-026528a2b2b1"
      },
      "execution_count": 47,
      "outputs": [
        {
          "output_type": "execute_result",
          "data": {
            "text/plain": [
              "[('b', <pyspark.resultiterable.ResultIterable at 0x7b8e0a837dc0>),\n",
              " ('c', <pyspark.resultiterable.ResultIterable at 0x7b8df0437970>),\n",
              " ('a', <pyspark.resultiterable.ResultIterable at 0x7b8df0434910>)]"
            ]
          },
          "metadata": {},
          "execution_count": 47
        }
      ]
    },
    {
      "cell_type": "code",
      "source": [
        "lista = [(x, list(y)) for x,y in rdd_group.collect()]"
      ],
      "metadata": {
        "id": "CiyxtuD59RcG"
      },
      "execution_count": 48,
      "outputs": []
    },
    {
      "cell_type": "code",
      "source": [
        "lista"
      ],
      "metadata": {
        "colab": {
          "base_uri": "https://localhost:8080/"
        },
        "id": "jArnJDPN9hQf",
        "outputId": "555a9d7e-6bd9-464f-f613-39f2adcf7f50"
      },
      "execution_count": 49,
      "outputs": [
        {
          "output_type": "execute_result",
          "data": {
            "text/plain": [
              "[('b', [2, 5]), ('c', [3, 6, 7]), ('a', [1, 4])]"
            ]
          },
          "metadata": {},
          "execution_count": 49
        }
      ]
    },
    {
      "cell_type": "markdown",
      "source": [
        "combineByKey(createCombiner(), mergeValue(), mergeCombiners()) - parecido a agregate"
      ],
      "metadata": {
        "id": "gMMxBdMU9tKb"
      }
    },
    {
      "cell_type": "code",
      "source": [
        "rdd_suma_cuenta = pair_rdd.combineByKey((lambda x: (x, 1)),\n",
        "                                        (lambda x, y: (x[0]+y, x[1]+1)),\n",
        "                                        (lambda x, y: (x[0]+y[0], x[1]+y[1])))"
      ],
      "metadata": {
        "id": "7xhRkvS-9sNW"
      },
      "execution_count": 50,
      "outputs": []
    },
    {
      "cell_type": "code",
      "source": [
        "rdd_suma_cuenta.collect()"
      ],
      "metadata": {
        "colab": {
          "base_uri": "https://localhost:8080/"
        },
        "id": "Xmold4K5-RfN",
        "outputId": "f916f3cc-8133-4f5d-c754-99e4e7d5e3ae"
      },
      "execution_count": 51,
      "outputs": [
        {
          "output_type": "execute_result",
          "data": {
            "text/plain": [
              "[('b', (7, 2)), ('c', (16, 3)), ('a', (5, 2))]"
            ]
          },
          "metadata": {},
          "execution_count": 51
        }
      ]
    },
    {
      "cell_type": "code",
      "source": [
        "rdd_media = rdd_suma_cuenta.mapValues(lambda x: x[0]/x[1])"
      ],
      "metadata": {
        "id": "8eYcUeS2-bU-"
      },
      "execution_count": 52,
      "outputs": []
    },
    {
      "cell_type": "code",
      "source": [
        "rdd_media.collect()"
      ],
      "metadata": {
        "colab": {
          "base_uri": "https://localhost:8080/"
        },
        "id": "IGI1FuJI-ip6",
        "outputId": "e2ce2fc4-b5f5-4c2e-e1a8-9eedc0ecb464"
      },
      "execution_count": 53,
      "outputs": [
        {
          "output_type": "execute_result",
          "data": {
            "text/plain": [
              "[('b', 3.5), ('c', 5.333333333333333), ('a', 2.5)]"
            ]
          },
          "metadata": {},
          "execution_count": 53
        }
      ]
    },
    {
      "cell_type": "markdown",
      "source": [
        "**Transformaciones para claves o valores**"
      ],
      "metadata": {
        "id": "CS175UYA-2DX"
      }
    },
    {
      "cell_type": "code",
      "source": [
        "pair_rdd.collect()"
      ],
      "metadata": {
        "colab": {
          "base_uri": "https://localhost:8080/"
        },
        "id": "tKGHiCiq-1Yi",
        "outputId": "c145d3de-d1e7-4ff7-aa01-cfbe00d30864"
      },
      "execution_count": 54,
      "outputs": [
        {
          "output_type": "execute_result",
          "data": {
            "text/plain": [
              "[('a', 1), ('b', 2), ('c', 3), ('a', 4), ('b', 5), ('c', 6), ('c', 7)]"
            ]
          },
          "metadata": {},
          "execution_count": 54
        }
      ]
    },
    {
      "cell_type": "code",
      "source": [
        "pair_rdd.keys().collect()"
      ],
      "metadata": {
        "colab": {
          "base_uri": "https://localhost:8080/"
        },
        "id": "muB2xFP3--Qb",
        "outputId": "28dfd71f-4987-4c93-da6c-c1e29970ae50"
      },
      "execution_count": 55,
      "outputs": [
        {
          "output_type": "execute_result",
          "data": {
            "text/plain": [
              "['a', 'b', 'c', 'a', 'b', 'c', 'c']"
            ]
          },
          "metadata": {},
          "execution_count": 55
        }
      ]
    },
    {
      "cell_type": "code",
      "source": [
        "pair_rdd.values().collect()"
      ],
      "metadata": {
        "colab": {
          "base_uri": "https://localhost:8080/"
        },
        "id": "X_qabv7p_DYu",
        "outputId": "3cc44459-ef18-49b1-f95a-1c7d82f39160"
      },
      "execution_count": 56,
      "outputs": [
        {
          "output_type": "execute_result",
          "data": {
            "text/plain": [
              "[1, 2, 3, 4, 5, 6, 7]"
            ]
          },
          "metadata": {},
          "execution_count": 56
        }
      ]
    },
    {
      "cell_type": "code",
      "source": [
        "pair_rdd.sortByKey().collect()"
      ],
      "metadata": {
        "colab": {
          "base_uri": "https://localhost:8080/"
        },
        "id": "BzzUPhAK_GSY",
        "outputId": "44d136e6-ef61-4913-c125-4119ad5217d7"
      },
      "execution_count": 57,
      "outputs": [
        {
          "output_type": "execute_result",
          "data": {
            "text/plain": [
              "[('a', 1), ('a', 4), ('b', 2), ('b', 5), ('c', 3), ('c', 6), ('c', 7)]"
            ]
          },
          "metadata": {},
          "execution_count": 57
        }
      ]
    },
    {
      "cell_type": "markdown",
      "source": [
        "mapValues() - aplica la funcion sobre los valores\n",
        "flatMapValues() - aplica la funcion sobre los valores y crea una lista simplificada"
      ],
      "metadata": {
        "id": "kjswNfZz_LSV"
      }
    },
    {
      "cell_type": "code",
      "source": [
        "pair_rdd.mapValues(lambda x: (x*10)).collect()"
      ],
      "metadata": {
        "colab": {
          "base_uri": "https://localhost:8080/"
        },
        "id": "1kUlmnaY_VDp",
        "outputId": "14202474-0da6-4b2a-b6c5-da8b2a1bac05"
      },
      "execution_count": 60,
      "outputs": [
        {
          "output_type": "execute_result",
          "data": {
            "text/plain": [
              "[('a', 10), ('b', 20), ('c', 30), ('a', 40), ('b', 50), ('c', 60), ('c', 70)]"
            ]
          },
          "metadata": {},
          "execution_count": 60
        }
      ]
    },
    {
      "cell_type": "code",
      "source": [
        "pair_rdd.flatMapValues(lambda x: (x,x*10)).collect()"
      ],
      "metadata": {
        "colab": {
          "base_uri": "https://localhost:8080/"
        },
        "id": "_0531Opl_xQ3",
        "outputId": "0fd6dc2b-0b08-4c6e-d8cf-a531076a785b"
      },
      "execution_count": 62,
      "outputs": [
        {
          "output_type": "execute_result",
          "data": {
            "text/plain": [
              "[('a', 1),\n",
              " ('a', 10),\n",
              " ('b', 2),\n",
              " ('b', 20),\n",
              " ('c', 3),\n",
              " ('c', 30),\n",
              " ('a', 4),\n",
              " ('a', 40),\n",
              " ('b', 5),\n",
              " ('b', 50),\n",
              " ('c', 6),\n",
              " ('c', 60),\n",
              " ('c', 7),\n",
              " ('c', 70)]"
            ]
          },
          "metadata": {},
          "execution_count": 62
        }
      ]
    },
    {
      "cell_type": "markdown",
      "source": [
        "**Joins**"
      ],
      "metadata": {
        "id": "8gJ6pARI__0x"
      }
    },
    {
      "cell_type": "code",
      "source": [
        "rdd1 = sc.parallelize([('a', 1), ('b', 2)])"
      ],
      "metadata": {
        "id": "F42dhoD1AEk0"
      },
      "execution_count": 63,
      "outputs": []
    },
    {
      "cell_type": "code",
      "source": [
        "rdd1.collect()"
      ],
      "metadata": {
        "colab": {
          "base_uri": "https://localhost:8080/"
        },
        "id": "9S1fwSCtAtNb",
        "outputId": "6d244829-e724-402f-9e76-a8720d42f8a6"
      },
      "execution_count": 65,
      "outputs": [
        {
          "output_type": "execute_result",
          "data": {
            "text/plain": [
              "[('a', 1), ('b', 2)]"
            ]
          },
          "metadata": {},
          "execution_count": 65
        }
      ]
    },
    {
      "cell_type": "code",
      "source": [
        "rdd2 = sc.parallelize([('a', 4), ('b', 5), ('c', 6)])"
      ],
      "metadata": {
        "id": "B2NqVOB2AfKc"
      },
      "execution_count": 64,
      "outputs": []
    },
    {
      "cell_type": "code",
      "source": [
        "rdd2.collect()"
      ],
      "metadata": {
        "colab": {
          "base_uri": "https://localhost:8080/"
        },
        "id": "ZUdcBrkDAnt0",
        "outputId": "d2642b68-c18d-4d07-ec70-e3897ae4c9ee"
      },
      "execution_count": 66,
      "outputs": [
        {
          "output_type": "execute_result",
          "data": {
            "text/plain": [
              "[('a', 4), ('b', 5), ('c', 6)]"
            ]
          },
          "metadata": {},
          "execution_count": 66
        }
      ]
    },
    {
      "cell_type": "code",
      "source": [
        "rdd1.join(rdd2).collect() #igual a un inner join"
      ],
      "metadata": {
        "colab": {
          "base_uri": "https://localhost:8080/"
        },
        "id": "hJRR0LpaAyHD",
        "outputId": "0c9ed1c1-3022-4dfa-9622-e162861d777f"
      },
      "execution_count": 67,
      "outputs": [
        {
          "output_type": "execute_result",
          "data": {
            "text/plain": [
              "[('b', (2, 5)), ('a', (1, 4))]"
            ]
          },
          "metadata": {},
          "execution_count": 67
        }
      ]
    },
    {
      "cell_type": "code",
      "source": [
        "rdd1.leftOuterJoin(rdd2).collect()"
      ],
      "metadata": {
        "colab": {
          "base_uri": "https://localhost:8080/"
        },
        "id": "J7n3TjdBA8Ol",
        "outputId": "b71444df-4e9d-442d-8803-46d98886dee8"
      },
      "execution_count": 68,
      "outputs": [
        {
          "output_type": "execute_result",
          "data": {
            "text/plain": [
              "[('b', (2, 5)), ('a', (1, 4))]"
            ]
          },
          "metadata": {},
          "execution_count": 68
        }
      ]
    },
    {
      "cell_type": "code",
      "source": [
        "rdd2.leftOuterJoin(rdd1).collect()"
      ],
      "metadata": {
        "colab": {
          "base_uri": "https://localhost:8080/"
        },
        "id": "Puo4DWQIBcej",
        "outputId": "a6e4679d-74a8-416d-efda-c5a4a65c4dc1"
      },
      "execution_count": 69,
      "outputs": [
        {
          "output_type": "execute_result",
          "data": {
            "text/plain": [
              "[('b', (5, 2)), ('c', (6, None)), ('a', (4, 1))]"
            ]
          },
          "metadata": {},
          "execution_count": 69
        }
      ]
    },
    {
      "cell_type": "code",
      "source": [
        "rdd1.rightOuterJoin(rdd2).collect()"
      ],
      "metadata": {
        "colab": {
          "base_uri": "https://localhost:8080/"
        },
        "id": "DNcs97lpBqwk",
        "outputId": "9f10799f-cbb6-426d-8b86-afe2f37808c9"
      },
      "execution_count": 70,
      "outputs": [
        {
          "output_type": "execute_result",
          "data": {
            "text/plain": [
              "[('b', (2, 5)), ('c', (None, 6)), ('a', (1, 4))]"
            ]
          },
          "metadata": {},
          "execution_count": 70
        }
      ]
    },
    {
      "cell_type": "code",
      "source": [
        "rdd2.rightOuterJoin(rdd1).collect()"
      ],
      "metadata": {
        "colab": {
          "base_uri": "https://localhost:8080/"
        },
        "id": "asHHX9lyBs3C",
        "outputId": "a3d586aa-d680-4f17-c103-e3368b91b60f"
      },
      "execution_count": 71,
      "outputs": [
        {
          "output_type": "execute_result",
          "data": {
            "text/plain": [
              "[('b', (5, 2)), ('a', (4, 1))]"
            ]
          },
          "metadata": {},
          "execution_count": 71
        }
      ]
    },
    {
      "cell_type": "code",
      "source": [
        "rdd1.fullOuterJoin(rdd2).collect()\n",
        "# te une todo"
      ],
      "metadata": {
        "colab": {
          "base_uri": "https://localhost:8080/"
        },
        "id": "XvwD7RkVBv-R",
        "outputId": "7d809321-b8d9-4f8c-8a0b-31bbba640d3f"
      },
      "execution_count": 72,
      "outputs": [
        {
          "output_type": "execute_result",
          "data": {
            "text/plain": [
              "[('b', (2, 5)), ('c', (None, 6)), ('a', (1, 4))]"
            ]
          },
          "metadata": {},
          "execution_count": 72
        }
      ]
    },
    {
      "cell_type": "markdown",
      "source": [
        "**subtractByKey()**"
      ],
      "metadata": {
        "id": "31K34anjCF4v"
      }
    },
    {
      "cell_type": "code",
      "source": [
        "rdd1.subtractByKey(rdd2).collect()"
      ],
      "metadata": {
        "colab": {
          "base_uri": "https://localhost:8080/"
        },
        "id": "H6nEvT2JCFGr",
        "outputId": "d78de8f0-e595-4ae3-e469-d56569a8c06c"
      },
      "execution_count": 73,
      "outputs": [
        {
          "output_type": "execute_result",
          "data": {
            "text/plain": [
              "[]"
            ]
          },
          "metadata": {},
          "execution_count": 73
        }
      ]
    },
    {
      "cell_type": "code",
      "source": [
        "rdd2.subtractByKey(rdd1).collect()"
      ],
      "metadata": {
        "colab": {
          "base_uri": "https://localhost:8080/"
        },
        "id": "VioZr2YpCP-h",
        "outputId": "41b5b832-cb92-44cf-ee9c-7da869b381ec"
      },
      "execution_count": 74,
      "outputs": [
        {
          "output_type": "execute_result",
          "data": {
            "text/plain": [
              "[('c', 6)]"
            ]
          },
          "metadata": {},
          "execution_count": 74
        }
      ]
    },
    {
      "cell_type": "markdown",
      "source": [
        "**cogroup()**"
      ],
      "metadata": {
        "id": "ylxtz0fMCZav"
      }
    },
    {
      "cell_type": "code",
      "source": [
        "rdd3 = rdd1.cogroup(rdd2)"
      ],
      "metadata": {
        "id": "tibpiOxhCbN_"
      },
      "execution_count": 75,
      "outputs": []
    },
    {
      "cell_type": "code",
      "source": [
        "rdd3.collect()"
      ],
      "metadata": {
        "colab": {
          "base_uri": "https://localhost:8080/"
        },
        "id": "XI3UOokPCd4f",
        "outputId": "bb0bc27b-d57b-42de-8845-32b384b81d9a"
      },
      "execution_count": 76,
      "outputs": [
        {
          "output_type": "execute_result",
          "data": {
            "text/plain": [
              "[('b',\n",
              "  (<pyspark.resultiterable.ResultIterable at 0x7b8df06f7f70>,\n",
              "   <pyspark.resultiterable.ResultIterable at 0x7b8df04377c0>)),\n",
              " ('c',\n",
              "  (<pyspark.resultiterable.ResultIterable at 0x7b8df04351e0>,\n",
              "   <pyspark.resultiterable.ResultIterable at 0x7b8df0436bf0>)),\n",
              " ('a',\n",
              "  (<pyspark.resultiterable.ResultIterable at 0x7b8df0435db0>,\n",
              "   <pyspark.resultiterable.ResultIterable at 0x7b8df0437040>))]"
            ]
          },
          "metadata": {},
          "execution_count": 76
        }
      ]
    },
    {
      "cell_type": "code",
      "source": [
        "rdd3.mapValues(lambda x: [list(i) for i in x]).collect()"
      ],
      "metadata": {
        "colab": {
          "base_uri": "https://localhost:8080/"
        },
        "id": "gnlkzwuMCfBb",
        "outputId": "7928d532-a3f7-43c4-a278-1685cd5236e5"
      },
      "execution_count": 79,
      "outputs": [
        {
          "output_type": "execute_result",
          "data": {
            "text/plain": [
              "[('b', [[2], [5]]), ('c', [[], [6]]), ('a', [[1], [4]])]"
            ]
          },
          "metadata": {},
          "execution_count": 79
        }
      ]
    },
    {
      "cell_type": "code",
      "source": [
        "rdd1.collectAsMap()"
      ],
      "metadata": {
        "colab": {
          "base_uri": "https://localhost:8080/"
        },
        "id": "eBLeiDpJDHdD",
        "outputId": "1ce6e146-38a1-4888-9a6c-0ed8f224eb69"
      },
      "execution_count": 80,
      "outputs": [
        {
          "output_type": "execute_result",
          "data": {
            "text/plain": [
              "{'a': 1, 'b': 2}"
            ]
          },
          "metadata": {},
          "execution_count": 80
        }
      ]
    },
    {
      "cell_type": "markdown",
      "source": [
        "countByKey()"
      ],
      "metadata": {
        "id": "7ikDXcUjDP1r"
      }
    },
    {
      "cell_type": "code",
      "source": [
        "rdd1.countByKey()"
      ],
      "metadata": {
        "colab": {
          "base_uri": "https://localhost:8080/"
        },
        "id": "MpIOiT8WDOv9",
        "outputId": "d8491342-3253-42fa-d7a6-58935504a7ed"
      },
      "execution_count": 81,
      "outputs": [
        {
          "output_type": "execute_result",
          "data": {
            "text/plain": [
              "defaultdict(int, {'a': 1, 'b': 1})"
            ]
          },
          "metadata": {},
          "execution_count": 81
        }
      ]
    },
    {
      "cell_type": "markdown",
      "source": [
        "lookup()"
      ],
      "metadata": {
        "id": "SVN4ANWnDU8G"
      }
    },
    {
      "cell_type": "code",
      "source": [
        "rdd1.lookup('a')"
      ],
      "metadata": {
        "colab": {
          "base_uri": "https://localhost:8080/"
        },
        "id": "gUsDn9-TDWmg",
        "outputId": "e6ec6d86-d3e3-4fdf-b607-2b89d4928803"
      },
      "execution_count": 82,
      "outputs": [
        {
          "output_type": "execute_result",
          "data": {
            "text/plain": [
              "[1]"
            ]
          },
          "metadata": {},
          "execution_count": 82
        }
      ]
    }
  ]
}
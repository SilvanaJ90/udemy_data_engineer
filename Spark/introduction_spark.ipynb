{
  "nbformat": 4,
  "nbformat_minor": 0,
  "metadata": {
    "colab": {
      "provenance": [],
      "authorship_tag": "ABX9TyMlvUaxsPLT6GzliJPId86t",
      "include_colab_link": true
    },
    "kernelspec": {
      "name": "python3",
      "display_name": "Python 3"
    },
    "language_info": {
      "name": "python"
    }
  },
  "cells": [
    {
      "cell_type": "markdown",
      "metadata": {
        "id": "view-in-github",
        "colab_type": "text"
      },
      "source": [
        "<a href=\"https://colab.research.google.com/github/SilvanaJ90/udemy_data_engineer/blob/main/introduction_spark.ipynb\" target=\"_parent\"><img src=\"https://colab.research.google.com/assets/colab-badge.svg\" alt=\"Open In Colab\"/></a>"
      ]
    },
    {
      "cell_type": "code",
      "source": [
        "pip install pyspark"
      ],
      "metadata": {
        "colab": {
          "base_uri": "https://localhost:8080/"
        },
        "id": "612wEf0lRolX",
        "outputId": "1bb07a40-d9e4-4f6f-d596-da6bca127d34"
      },
      "execution_count": 2,
      "outputs": [
        {
          "output_type": "stream",
          "name": "stdout",
          "text": [
            "Collecting pyspark\n",
            "  Downloading pyspark-3.5.1.tar.gz (317.0 MB)\n",
            "\u001b[2K     \u001b[90m━━━━━━━━━━━━━━━━━━━━━━━━━━━━━━━━━━━━━━━━\u001b[0m \u001b[32m317.0/317.0 MB\u001b[0m \u001b[31m2.3 MB/s\u001b[0m eta \u001b[36m0:00:00\u001b[0m\n",
            "\u001b[?25h  Preparing metadata (setup.py) ... \u001b[?25l\u001b[?25hdone\n",
            "Requirement already satisfied: py4j==0.10.9.7 in /usr/local/lib/python3.10/dist-packages (from pyspark) (0.10.9.7)\n",
            "Building wheels for collected packages: pyspark\n",
            "  Building wheel for pyspark (setup.py) ... \u001b[?25l\u001b[?25hdone\n",
            "  Created wheel for pyspark: filename=pyspark-3.5.1-py2.py3-none-any.whl size=317488491 sha256=251b07c423cdb09a56dc246f8b91e7c2f20ec26095dc8689c769aaf4b6dc6162\n",
            "  Stored in directory: /root/.cache/pip/wheels/80/1d/60/2c256ed38dddce2fdd93be545214a63e02fbd8d74fb0b7f3a6\n",
            "Successfully built pyspark\n",
            "Installing collected packages: pyspark\n",
            "Successfully installed pyspark-3.5.1\n"
          ]
        }
      ]
    },
    {
      "cell_type": "code",
      "execution_count": 3,
      "metadata": {
        "id": "ojcJps_pRW2H"
      },
      "outputs": [],
      "source": [
        "from pyspark import SparkContext"
      ]
    },
    {
      "cell_type": "code",
      "source": [
        "sc = SparkContext()"
      ],
      "metadata": {
        "id": "SprpStNjSDFe"
      },
      "execution_count": 4,
      "outputs": []
    },
    {
      "cell_type": "code",
      "source": [],
      "metadata": {
        "id": "0FR3fLJUmrCT"
      },
      "execution_count": 4,
      "outputs": []
    },
    {
      "cell_type": "code",
      "source": [
        "lista = [1,2,3,4,5]"
      ],
      "metadata": {
        "id": "AvY7AwpMSFIw"
      },
      "execution_count": 5,
      "outputs": []
    },
    {
      "cell_type": "code",
      "source": [
        "rdd = sc.parallelize(lista)"
      ],
      "metadata": {
        "id": "AKwzpG72SGsY"
      },
      "execution_count": 6,
      "outputs": []
    },
    {
      "cell_type": "code",
      "source": [
        "rdd.collect()"
      ],
      "metadata": {
        "colab": {
          "base_uri": "https://localhost:8080/"
        },
        "id": "P_WZf6vKSH4A",
        "outputId": "e5a3b51e-8782-45ff-e998-7f3df4075bbf"
      },
      "execution_count": 7,
      "outputs": [
        {
          "output_type": "execute_result",
          "data": {
            "text/plain": [
              "[1, 2, 3, 4, 5]"
            ]
          },
          "metadata": {},
          "execution_count": 7
        }
      ]
    },
    {
      "cell_type": "markdown",
      "source": [
        "**filter() filtra los elementos de un RDD**"
      ],
      "metadata": {
        "id": "Sb9UT3NrUKqr"
      }
    },
    {
      "cell_type": "code",
      "source": [
        "filtrado_rdd = rdd.filter(lambda x: x > 1)"
      ],
      "metadata": {
        "id": "L9WNLS44SUXC"
      },
      "execution_count": 8,
      "outputs": []
    },
    {
      "cell_type": "markdown",
      "source": [],
      "metadata": {
        "id": "r7DNT9uGSL-7"
      }
    },
    {
      "cell_type": "code",
      "source": [
        "filtrado_rdd.collect()"
      ],
      "metadata": {
        "colab": {
          "base_uri": "https://localhost:8080/"
        },
        "id": "GxPIy9x6SXq-",
        "outputId": "bbffe33a-11ef-44ad-e731-841c4f73d44a"
      },
      "execution_count": 9,
      "outputs": [
        {
          "output_type": "execute_result",
          "data": {
            "text/plain": [
              "[2, 3, 4, 5]"
            ]
          },
          "metadata": {},
          "execution_count": 9
        }
      ]
    },
    {
      "cell_type": "markdown",
      "source": [
        "**map() aplica una funcion a los elementos de un RDD**"
      ],
      "metadata": {
        "id": "4VGcsOMySbgO"
      }
    },
    {
      "cell_type": "code",
      "source": [
        "def suma1(x):\n",
        "    return(x+1)"
      ],
      "metadata": {
        "id": "FrJMBT19Sdaz"
      },
      "execution_count": 10,
      "outputs": []
    },
    {
      "cell_type": "code",
      "source": [],
      "metadata": {
        "id": "0QPwJfcpWCRN"
      },
      "execution_count": 10,
      "outputs": []
    },
    {
      "cell_type": "code",
      "source": [
        "filtrado_sumado_rdd = filtrado_rdd.map(suma1)"
      ],
      "metadata": {
        "id": "sW7zdVIkSl6a"
      },
      "execution_count": 11,
      "outputs": []
    },
    {
      "cell_type": "code",
      "source": [
        "filtrado_sumado_rdd.collect()"
      ],
      "metadata": {
        "colab": {
          "base_uri": "https://localhost:8080/"
        },
        "id": "j5As4vx6SnMj",
        "outputId": "0d084a67-21c6-43a0-e125-85c944fda07a"
      },
      "execution_count": 12,
      "outputs": [
        {
          "output_type": "execute_result",
          "data": {
            "text/plain": [
              "[3, 4, 5, 6]"
            ]
          },
          "metadata": {},
          "execution_count": 12
        }
      ]
    },
    {
      "cell_type": "code",
      "source": [
        "cuadrado_rdd = (filtrado_rdd\n",
        "                .map(suma1)\n",
        "                .map(lambda x: (x, x**2)))"
      ],
      "metadata": {
        "id": "VLx6lScmUhUz"
      },
      "execution_count": 13,
      "outputs": []
    },
    {
      "cell_type": "code",
      "source": [
        "cuadrado_rdd.collect()"
      ],
      "metadata": {
        "id": "s7lIwCaLVgQY",
        "outputId": "15764785-88e9-40a7-d816-c9d1941d720d",
        "colab": {
          "base_uri": "https://localhost:8080/"
        }
      },
      "execution_count": 14,
      "outputs": [
        {
          "output_type": "execute_result",
          "data": {
            "text/plain": [
              "[(3, 9), (4, 16), (5, 25), (6, 36)]"
            ]
          },
          "metadata": {},
          "execution_count": 14
        }
      ]
    },
    {
      "cell_type": "markdown",
      "source": [
        "**Flatmap es igual que map() pero te convierte el resultado a una lista simple**"
      ],
      "metadata": {
        "id": "SUwxg4kKVzpt"
      }
    },
    {
      "cell_type": "code",
      "source": [
        "cuadrado_rdd = (filtrado_rdd\n",
        "                .map(suma1)\n",
        "                .flatMap(lambda x: (x, x**2)))"
      ],
      "metadata": {
        "id": "oypK7gE1V7F_"
      },
      "execution_count": 15,
      "outputs": []
    },
    {
      "cell_type": "code",
      "source": [
        "cuadrado_rdd.collect()"
      ],
      "metadata": {
        "id": "U-2FD0AiWQwe",
        "outputId": "3609c62c-af1f-454f-c98e-2a82f0a6355c",
        "colab": {
          "base_uri": "https://localhost:8080/"
        }
      },
      "execution_count": 16,
      "outputs": [
        {
          "output_type": "execute_result",
          "data": {
            "text/plain": [
              "[3, 9, 4, 16, 5, 25, 6, 36]"
            ]
          },
          "metadata": {},
          "execution_count": 16
        }
      ]
    },
    {
      "cell_type": "markdown",
      "source": [
        "**Sample (withReplacemnt, fraction, seed)**"
      ],
      "metadata": {
        "id": "EasGxL6Dcur8"
      }
    },
    {
      "cell_type": "code",
      "source": [
        "cuadrado_rdd.sample(True,3).collect()"
      ],
      "metadata": {
        "id": "P1CIxUqvczy1",
        "outputId": "0619d210-f9e2-4e6d-a784-66f3d5904db6",
        "colab": {
          "base_uri": "https://localhost:8080/"
        }
      },
      "execution_count": 17,
      "outputs": [
        {
          "output_type": "execute_result",
          "data": {
            "text/plain": [
              "[3, 3, 9, 9, 4, 4, 4, 16, 16, 16, 16, 16, 5, 5, 5, 25, 25, 6, 36]"
            ]
          },
          "metadata": {},
          "execution_count": 17
        }
      ]
    },
    {
      "cell_type": "markdown",
      "source": [
        "**distinct() devuelve un nuevo RDD quitando duplicados**"
      ],
      "metadata": {
        "id": "wL1fT38ieTZw"
      }
    },
    {
      "cell_type": "code",
      "source": [
        "lista = [1,1,2,2,3,3,4,4]"
      ],
      "metadata": {
        "id": "z-8sysiMeSvD"
      },
      "execution_count": 18,
      "outputs": []
    },
    {
      "cell_type": "code",
      "source": [
        "rdd = sc.parallelize(lista)"
      ],
      "metadata": {
        "id": "E_Z43oUxeipg"
      },
      "execution_count": 19,
      "outputs": []
    },
    {
      "cell_type": "code",
      "source": [
        "rdd.collect()"
      ],
      "metadata": {
        "id": "jil9TqjLel2s",
        "outputId": "156ae401-534a-4a2f-e2f6-0ad1e32dd68e",
        "colab": {
          "base_uri": "https://localhost:8080/"
        }
      },
      "execution_count": 20,
      "outputs": [
        {
          "output_type": "execute_result",
          "data": {
            "text/plain": [
              "[1, 1, 2, 2, 3, 3, 4, 4]"
            ]
          },
          "metadata": {},
          "execution_count": 20
        }
      ]
    },
    {
      "cell_type": "code",
      "source": [
        "rdd.distinct().collect()"
      ],
      "metadata": {
        "id": "ylzCKPJHeofm",
        "outputId": "6bac57d9-bde5-494b-acce-0bcfe53f3e02",
        "colab": {
          "base_uri": "https://localhost:8080/"
        }
      },
      "execution_count": 21,
      "outputs": [
        {
          "output_type": "execute_result",
          "data": {
            "text/plain": [
              "[2, 4, 1, 3]"
            ]
          },
          "metadata": {},
          "execution_count": 21
        }
      ]
    },
    {
      "cell_type": "markdown",
      "source": [
        "**groupBy() devuelve un RDD con datos agrupados en formato de clave y valor**"
      ],
      "metadata": {
        "id": "R2MuCtR2esAN"
      }
    },
    {
      "cell_type": "code",
      "source": [
        "agrupado_rdd = rdd.groupBy(lambda x: x > 1)"
      ],
      "metadata": {
        "id": "3PySmJBJezpQ"
      },
      "execution_count": 22,
      "outputs": []
    },
    {
      "cell_type": "code",
      "source": [
        "agrupado_rdd.collect()"
      ],
      "metadata": {
        "id": "nr6Cm815fZju",
        "outputId": "a68a8f98-2390-4dcf-b3ec-71ef5baef20c",
        "colab": {
          "base_uri": "https://localhost:8080/"
        }
      },
      "execution_count": 23,
      "outputs": [
        {
          "output_type": "execute_result",
          "data": {
            "text/plain": [
              "[(False, <pyspark.resultiterable.ResultIterable at 0x7e1ae1c56ad0>),\n",
              " (True, <pyspark.resultiterable.ResultIterable at 0x7e1ad06f53f0>)]"
            ]
          },
          "metadata": {},
          "execution_count": 23
        }
      ]
    },
    {
      "cell_type": "code",
      "source": [
        "agrupado_rdd.collect()"
      ],
      "metadata": {
        "id": "sRJYqt8_fBFC",
        "outputId": "54faeb86-5da9-4110-a35c-a424d43197be",
        "colab": {
          "base_uri": "https://localhost:8080/"
        }
      },
      "execution_count": 24,
      "outputs": [
        {
          "output_type": "execute_result",
          "data": {
            "text/plain": [
              "[(False, <pyspark.resultiterable.ResultIterable at 0x7e1ad07c3dc0>),\n",
              " (True, <pyspark.resultiterable.ResultIterable at 0x7e1ad06f5f60>)]"
            ]
          },
          "metadata": {},
          "execution_count": 24
        }
      ]
    },
    {
      "cell_type": "code",
      "source": [
        "print([(x,sorted(y)) for (x,y) in agrupado_rdd.collect()])"
      ],
      "metadata": {
        "id": "HOYwf4KjfEvu",
        "outputId": "19f6f014-321c-4136-b94e-b86f4774c2ba",
        "colab": {
          "base_uri": "https://localhost:8080/"
        }
      },
      "execution_count": 25,
      "outputs": [
        {
          "output_type": "stream",
          "name": "stdout",
          "text": [
            "[(False, [1, 1]), (True, [2, 2, 3, 3, 4, 4])]\n"
          ]
        }
      ]
    },
    {
      "cell_type": "markdown",
      "source": [
        "**Transformaciones sobre dos RDD**\n",
        "\n",
        "\n",
        "\n"
      ],
      "metadata": {
        "id": "z0JbxSUsmtxV"
      }
    },
    {
      "cell_type": "markdown",
      "source": [
        "rdda.union(rddb)"
      ],
      "metadata": {
        "id": "nfFOyaETm4o-"
      }
    },
    {
      "cell_type": "code",
      "source": [
        "rdda = sc.parallelize([1,2,3])"
      ],
      "metadata": {
        "id": "YW6_m39gm5NI"
      },
      "execution_count": 26,
      "outputs": []
    },
    {
      "cell_type": "code",
      "source": [
        "rddb = sc.parallelize([4,5,6])"
      ],
      "metadata": {
        "id": "A_Z85DHtmsj3"
      },
      "execution_count": 27,
      "outputs": []
    },
    {
      "cell_type": "code",
      "source": [
        "rddu = rdda.union(rddb)"
      ],
      "metadata": {
        "id": "zqxLOBAhnefo"
      },
      "execution_count": 28,
      "outputs": []
    },
    {
      "cell_type": "code",
      "source": [
        "rddu.collect()"
      ],
      "metadata": {
        "id": "OFWOTbm2njuu",
        "outputId": "fbe11071-b72a-4b3d-f6a9-29f37ae365b9",
        "colab": {
          "base_uri": "https://localhost:8080/"
        }
      },
      "execution_count": 29,
      "outputs": [
        {
          "output_type": "execute_result",
          "data": {
            "text/plain": [
              "[1, 2, 3, 4, 5, 6]"
            ]
          },
          "metadata": {},
          "execution_count": 29
        }
      ]
    },
    {
      "cell_type": "markdown",
      "source": [
        "rdda intersection rddb"
      ],
      "metadata": {
        "id": "VXIq3CGunpnU"
      }
    },
    {
      "cell_type": "code",
      "source": [
        "rdda = sc.parallelize([1,2,3,4])"
      ],
      "metadata": {
        "id": "xi34ynTKn3iU"
      },
      "execution_count": 32,
      "outputs": []
    },
    {
      "cell_type": "code",
      "source": [
        "rddb = sc.parallelize([3,4,5,6])"
      ],
      "metadata": {
        "id": "Da9cL5CEn3yU"
      },
      "execution_count": 33,
      "outputs": []
    },
    {
      "cell_type": "code",
      "source": [
        "rddi = rdda.intersection(rddb)"
      ],
      "metadata": {
        "id": "WP2EchWAnoBQ"
      },
      "execution_count": 34,
      "outputs": []
    },
    {
      "cell_type": "code",
      "source": [
        "rddi.collect()"
      ],
      "metadata": {
        "id": "qdhBR2-Env20",
        "outputId": "c1c63150-fd94-4059-e921-239ab454f471",
        "colab": {
          "base_uri": "https://localhost:8080/"
        }
      },
      "execution_count": 35,
      "outputs": [
        {
          "output_type": "execute_result",
          "data": {
            "text/plain": [
              "[4, 3]"
            ]
          },
          "metadata": {},
          "execution_count": 35
        }
      ]
    },
    {
      "cell_type": "markdown",
      "source": [
        "rdda.subtract(rddb) devuelve los datos de a menos los d b"
      ],
      "metadata": {
        "id": "GefFWGXLoC4y"
      }
    },
    {
      "cell_type": "code",
      "source": [
        "rdds = rdda.subtract(rddb)"
      ],
      "metadata": {
        "id": "wewAl54JoBvX"
      },
      "execution_count": 40,
      "outputs": []
    },
    {
      "cell_type": "code",
      "source": [
        "rdds.collect()"
      ],
      "metadata": {
        "id": "u2UWECf7oM4U",
        "outputId": "4e797718-8af9-41a3-c438-aefee6d37b31",
        "colab": {
          "base_uri": "https://localhost:8080/"
        }
      },
      "execution_count": 43,
      "outputs": [
        {
          "output_type": "execute_result",
          "data": {
            "text/plain": [
              "[1, 2]"
            ]
          },
          "metadata": {},
          "execution_count": 43
        }
      ]
    },
    {
      "cell_type": "code",
      "source": [
        "rdds = rddb.subtract(rdda)"
      ],
      "metadata": {
        "id": "NJHO5z3koeNt"
      },
      "execution_count": 44,
      "outputs": []
    },
    {
      "cell_type": "code",
      "source": [
        "rdds.collect()"
      ],
      "metadata": {
        "id": "HnQJYEAjoi-I",
        "outputId": "5b24d35d-b9b9-41c9-ba9a-78f513304f43",
        "colab": {
          "base_uri": "https://localhost:8080/"
        }
      },
      "execution_count": 46,
      "outputs": [
        {
          "output_type": "execute_result",
          "data": {
            "text/plain": [
              "[5, 6]"
            ]
          },
          "metadata": {},
          "execution_count": 46
        }
      ]
    },
    {
      "cell_type": "markdown",
      "source": [
        "rdda.cartesian(rddb) producto cartesiano - operacion costosa"
      ],
      "metadata": {
        "id": "3UIBxq5do5_W"
      }
    },
    {
      "cell_type": "code",
      "source": [
        "rddc = rdda.cartesian(rddb)"
      ],
      "metadata": {
        "id": "BvTPfMB0o2hG"
      },
      "execution_count": 47,
      "outputs": []
    },
    {
      "cell_type": "code",
      "source": [
        "rddc.collect()"
      ],
      "metadata": {
        "id": "poHDyW7GpFL6",
        "outputId": "266967f4-8ed4-4634-8016-8c66ccf1eab8",
        "colab": {
          "base_uri": "https://localhost:8080/"
        }
      },
      "execution_count": 48,
      "outputs": [
        {
          "output_type": "execute_result",
          "data": {
            "text/plain": [
              "[(1, 3),\n",
              " (1, 4),\n",
              " (2, 3),\n",
              " (2, 4),\n",
              " (1, 5),\n",
              " (1, 6),\n",
              " (2, 5),\n",
              " (2, 6),\n",
              " (3, 3),\n",
              " (3, 4),\n",
              " (4, 3),\n",
              " (4, 4),\n",
              " (3, 5),\n",
              " (3, 6),\n",
              " (4, 5),\n",
              " (4, 6)]"
            ]
          },
          "metadata": {},
          "execution_count": 48
        }
      ]
    },
    {
      "cell_type": "markdown",
      "source": [
        "**Acciones**"
      ],
      "metadata": {
        "id": "0nKKh11Xpcrp"
      }
    },
    {
      "cell_type": "code",
      "source": [
        "rdd = sc.parallelize(range(1,6))"
      ],
      "metadata": {
        "id": "XB1n1ALyppHs"
      },
      "execution_count": 49,
      "outputs": []
    },
    {
      "cell_type": "code",
      "source": [
        "rdd.collect()"
      ],
      "metadata": {
        "id": "m2LiRRj7p69g",
        "outputId": "e4fbcdd3-140f-49a6-f91a-a068ebb359a4",
        "colab": {
          "base_uri": "https://localhost:8080/"
        }
      },
      "execution_count": 50,
      "outputs": [
        {
          "output_type": "execute_result",
          "data": {
            "text/plain": [
              "[1, 2, 3, 4, 5]"
            ]
          },
          "metadata": {},
          "execution_count": 50
        }
      ]
    },
    {
      "cell_type": "markdown",
      "source": [
        "Alternaticas a collect() ya que collect puede saturar la memoria\n",
        "\n",
        "\n",
        "*   taken(n)\n",
        "*   takenWithDample(withRep, n,[seed])\n",
        "*   top(n)  # orden desendiente\n",
        "*   takeOrdered(n, [order]) #orden ascendente o usando una key\n",
        "\n",
        "\n",
        "\n",
        "\n",
        "\n"
      ],
      "metadata": {
        "id": "TbilfjnCqY6t"
      }
    },
    {
      "cell_type": "code",
      "source": [
        "rdd.take(4)"
      ],
      "metadata": {
        "id": "1F3S4BwsqdOa",
        "outputId": "d4a2c895-63c2-4f80-a86e-8edc2e7da610",
        "colab": {
          "base_uri": "https://localhost:8080/"
        }
      },
      "execution_count": 51,
      "outputs": [
        {
          "output_type": "execute_result",
          "data": {
            "text/plain": [
              "[1, 2, 3, 4]"
            ]
          },
          "metadata": {},
          "execution_count": 51
        }
      ]
    },
    {
      "cell_type": "code",
      "source": [
        "rdd.takeSample(True, 3)"
      ],
      "metadata": {
        "id": "ckEJiKC-rCWI",
        "outputId": "21af3b6f-d589-4365-9df3-8aa0c126b224",
        "colab": {
          "base_uri": "https://localhost:8080/"
        }
      },
      "execution_count": 53,
      "outputs": [
        {
          "output_type": "execute_result",
          "data": {
            "text/plain": [
              "[5, 5, 1]"
            ]
          },
          "metadata": {},
          "execution_count": 53
        }
      ]
    },
    {
      "cell_type": "code",
      "source": [
        "rdd.top(5)"
      ],
      "metadata": {
        "id": "yk-Enl-vrFzL",
        "outputId": "e61b675e-af6a-465f-f147-e0905245098a",
        "colab": {
          "base_uri": "https://localhost:8080/"
        }
      },
      "execution_count": 56,
      "outputs": [
        {
          "output_type": "execute_result",
          "data": {
            "text/plain": [
              "[5, 4, 3, 2, 1]"
            ]
          },
          "metadata": {},
          "execution_count": 56
        }
      ]
    },
    {
      "cell_type": "code",
      "source": [
        "rdd.takeOrdered(5)"
      ],
      "metadata": {
        "id": "Pi_Ox6EiriJR",
        "outputId": "f29c8559-6dce-4bd0-9a9b-fe7342d52db4",
        "colab": {
          "base_uri": "https://localhost:8080/"
        }
      },
      "execution_count": 57,
      "outputs": [
        {
          "output_type": "execute_result",
          "data": {
            "text/plain": [
              "[1, 2, 3, 4, 5]"
            ]
          },
          "metadata": {},
          "execution_count": 57
        }
      ]
    },
    {
      "cell_type": "markdown",
      "source": [
        "**reduce(operacion) combina los elementos utilizando un operador**"
      ],
      "metadata": {
        "id": "MplJq7H7stdO"
      }
    },
    {
      "cell_type": "code",
      "source": [
        "rdd.reduce(lambda x,y: x+y)"
      ],
      "metadata": {
        "id": "639uiuTIsz9Q",
        "outputId": "2ddaa316-3e87-4fb2-c161-e6936cec6a00",
        "colab": {
          "base_uri": "https://localhost:8080/"
        }
      },
      "execution_count": 59,
      "outputs": [
        {
          "output_type": "execute_result",
          "data": {
            "text/plain": [
              "15"
            ]
          },
          "metadata": {},
          "execution_count": 59
        }
      ]
    },
    {
      "cell_type": "code",
      "source": [
        "rdd.reduce(lambda x,y: x-y)"
      ],
      "metadata": {
        "id": "3qVdG449s5hS",
        "outputId": "3fa53d67-d6d0-426c-f931-f16c77a7cd45",
        "colab": {
          "base_uri": "https://localhost:8080/"
        }
      },
      "execution_count": 60,
      "outputs": [
        {
          "output_type": "execute_result",
          "data": {
            "text/plain": [
              "5"
            ]
          },
          "metadata": {},
          "execution_count": 60
        }
      ]
    },
    {
      "cell_type": "code",
      "source": [
        "rdd.reduce(lambda x,y: x*y)\n"
      ],
      "metadata": {
        "id": "pyZkm-pYs-rq",
        "outputId": "1fab099d-971a-4b8a-fe6c-d31fc4808a16",
        "colab": {
          "base_uri": "https://localhost:8080/"
        }
      },
      "execution_count": 61,
      "outputs": [
        {
          "output_type": "execute_result",
          "data": {
            "text/plain": [
              "120"
            ]
          },
          "metadata": {},
          "execution_count": 61
        }
      ]
    },
    {
      "cell_type": "code",
      "source": [
        "from operator import add, sub, mul"
      ],
      "metadata": {
        "id": "0H8-wu0qtDJL"
      },
      "execution_count": 64,
      "outputs": []
    },
    {
      "cell_type": "code",
      "source": [
        "rdd.reduce(add)"
      ],
      "metadata": {
        "id": "A-ydnfCLtIBm",
        "outputId": "91824212-ba2e-4aa7-ec19-a5514b07c5f4",
        "colab": {
          "base_uri": "https://localhost:8080/"
        }
      },
      "execution_count": 63,
      "outputs": [
        {
          "output_type": "execute_result",
          "data": {
            "text/plain": [
              "15"
            ]
          },
          "metadata": {},
          "execution_count": 63
        }
      ]
    },
    {
      "cell_type": "code",
      "source": [
        "rdd.reduce(sub)"
      ],
      "metadata": {
        "id": "BwzlfLKAtMGE",
        "outputId": "de952af9-2f16-4c50-ac98-f80963337486",
        "colab": {
          "base_uri": "https://localhost:8080/"
        }
      },
      "execution_count": 65,
      "outputs": [
        {
          "output_type": "execute_result",
          "data": {
            "text/plain": [
              "5"
            ]
          },
          "metadata": {},
          "execution_count": 65
        }
      ]
    },
    {
      "cell_type": "code",
      "source": [
        "rdd.reduce(mul)"
      ],
      "metadata": {
        "id": "w6dB4v_dtXqF",
        "outputId": "1d96b5cc-4953-4936-86c8-aae9bae1c8ad",
        "colab": {
          "base_uri": "https://localhost:8080/"
        }
      },
      "execution_count": 66,
      "outputs": [
        {
          "output_type": "execute_result",
          "data": {
            "text/plain": [
              "120"
            ]
          },
          "metadata": {},
          "execution_count": 66
        }
      ]
    },
    {
      "cell_type": "code",
      "source": [
        "rdd_vacio = sc.parallelize([])"
      ],
      "metadata": {
        "id": "SZHT-HcctlrT"
      },
      "execution_count": 67,
      "outputs": []
    },
    {
      "cell_type": "code",
      "source": [
        "rdd_vacio.collect()"
      ],
      "metadata": {
        "id": "ec5_J-mytpht",
        "outputId": "6ab3d69c-b022-419f-b110-da11d9108ff5",
        "colab": {
          "base_uri": "https://localhost:8080/"
        }
      },
      "execution_count": 68,
      "outputs": [
        {
          "output_type": "execute_result",
          "data": {
            "text/plain": [
              "[]"
            ]
          },
          "metadata": {},
          "execution_count": 68
        }
      ]
    },
    {
      "cell_type": "code",
      "source": [
        "rdd_vacio.reduce(add)"
      ],
      "metadata": {
        "id": "YA8-WSvMtzAD",
        "outputId": "ab7e5eed-1f0f-43de-b8b5-fa3d5def3616",
        "colab": {
          "base_uri": "https://localhost:8080/",
          "height": 318
        }
      },
      "execution_count": 69,
      "outputs": [
        {
          "output_type": "error",
          "ename": "ValueError",
          "evalue": "Can not reduce() empty RDD",
          "traceback": [
            "\u001b[0;31m---------------------------------------------------------------------------\u001b[0m",
            "\u001b[0;31mValueError\u001b[0m                                Traceback (most recent call last)",
            "\u001b[0;32m<ipython-input-69-cedea60e1ae4>\u001b[0m in \u001b[0;36m<cell line: 1>\u001b[0;34m()\u001b[0m\n\u001b[0;32m----> 1\u001b[0;31m \u001b[0mrdd_vacio\u001b[0m\u001b[0;34m.\u001b[0m\u001b[0mreduce\u001b[0m\u001b[0;34m(\u001b[0m\u001b[0madd\u001b[0m\u001b[0;34m)\u001b[0m\u001b[0;34m\u001b[0m\u001b[0;34m\u001b[0m\u001b[0m\n\u001b[0m",
            "\u001b[0;32m/usr/local/lib/python3.10/dist-packages/pyspark/rdd.py\u001b[0m in \u001b[0;36mreduce\u001b[0;34m(self, f)\u001b[0m\n\u001b[1;32m   1925\u001b[0m         \u001b[0;32mif\u001b[0m \u001b[0mvals\u001b[0m\u001b[0;34m:\u001b[0m\u001b[0;34m\u001b[0m\u001b[0;34m\u001b[0m\u001b[0m\n\u001b[1;32m   1926\u001b[0m             \u001b[0;32mreturn\u001b[0m \u001b[0mreduce\u001b[0m\u001b[0;34m(\u001b[0m\u001b[0mf\u001b[0m\u001b[0;34m,\u001b[0m \u001b[0mvals\u001b[0m\u001b[0;34m)\u001b[0m\u001b[0;34m\u001b[0m\u001b[0;34m\u001b[0m\u001b[0m\n\u001b[0;32m-> 1927\u001b[0;31m         \u001b[0;32mraise\u001b[0m \u001b[0mValueError\u001b[0m\u001b[0;34m(\u001b[0m\u001b[0;34m\"Can not reduce() empty RDD\"\u001b[0m\u001b[0;34m)\u001b[0m\u001b[0;34m\u001b[0m\u001b[0;34m\u001b[0m\u001b[0m\n\u001b[0m\u001b[1;32m   1928\u001b[0m \u001b[0;34m\u001b[0m\u001b[0m\n\u001b[1;32m   1929\u001b[0m     \u001b[0;32mdef\u001b[0m \u001b[0mtreeReduce\u001b[0m\u001b[0;34m(\u001b[0m\u001b[0mself\u001b[0m\u001b[0;34m:\u001b[0m \u001b[0;34m\"RDD[T]\"\u001b[0m\u001b[0;34m,\u001b[0m \u001b[0mf\u001b[0m\u001b[0;34m:\u001b[0m \u001b[0mCallable\u001b[0m\u001b[0;34m[\u001b[0m\u001b[0;34m[\u001b[0m\u001b[0mT\u001b[0m\u001b[0;34m,\u001b[0m \u001b[0mT\u001b[0m\u001b[0;34m]\u001b[0m\u001b[0;34m,\u001b[0m \u001b[0mT\u001b[0m\u001b[0;34m]\u001b[0m\u001b[0;34m,\u001b[0m \u001b[0mdepth\u001b[0m\u001b[0;34m:\u001b[0m \u001b[0mint\u001b[0m \u001b[0;34m=\u001b[0m \u001b[0;36m2\u001b[0m\u001b[0;34m)\u001b[0m \u001b[0;34m->\u001b[0m \u001b[0mT\u001b[0m\u001b[0;34m:\u001b[0m\u001b[0;34m\u001b[0m\u001b[0;34m\u001b[0m\u001b[0m\n",
            "\u001b[0;31mValueError\u001b[0m: Can not reduce() empty RDD"
          ]
        }
      ]
    },
    {
      "cell_type": "markdown",
      "source": [
        "**fold(valorCero, operacion)**"
      ],
      "metadata": {
        "id": "_OJO2pPKt3Ko"
      }
    },
    {
      "cell_type": "code",
      "source": [
        "rdd.collect()"
      ],
      "metadata": {
        "id": "ItcHHaZLt1wm",
        "outputId": "6582b6a3-59da-4334-d360-ced497e95af3",
        "colab": {
          "base_uri": "https://localhost:8080/"
        }
      },
      "execution_count": 70,
      "outputs": [
        {
          "output_type": "execute_result",
          "data": {
            "text/plain": [
              "[1, 2, 3, 4, 5]"
            ]
          },
          "metadata": {},
          "execution_count": 70
        }
      ]
    },
    {
      "cell_type": "code",
      "source": [
        "rdd.fold(0, add) #fold crea el valor cero para la operacion para cada particion y luego al final otra vez"
      ],
      "metadata": {
        "id": "-t_agDvzuBf7",
        "outputId": "26a1d17f-aef5-423a-b6e7-422ce8b0f73c",
        "colab": {
          "base_uri": "https://localhost:8080/"
        }
      },
      "execution_count": 77,
      "outputs": [
        {
          "output_type": "execute_result",
          "data": {
            "text/plain": [
              "15"
            ]
          },
          "metadata": {},
          "execution_count": 77
        }
      ]
    },
    {
      "cell_type": "code",
      "source": [
        "rdd.glom().collect()"
      ],
      "metadata": {
        "id": "z_-ZDLpkuDlO",
        "outputId": "5d4acffc-7d76-452b-97e5-2e3a0fe157f3",
        "colab": {
          "base_uri": "https://localhost:8080/"
        }
      },
      "execution_count": 78,
      "outputs": [
        {
          "output_type": "execute_result",
          "data": {
            "text/plain": [
              "[[1, 2], [3, 4, 5]]"
            ]
          },
          "metadata": {},
          "execution_count": 78
        }
      ]
    },
    {
      "cell_type": "code",
      "source": [
        "rdd.reduce(mul)"
      ],
      "metadata": {
        "id": "AeMU8REou8jB",
        "outputId": "37b83a27-3d71-42b9-8a0c-a1dcb5bfb198",
        "colab": {
          "base_uri": "https://localhost:8080/"
        }
      },
      "execution_count": 79,
      "outputs": [
        {
          "output_type": "execute_result",
          "data": {
            "text/plain": [
              "120"
            ]
          },
          "metadata": {},
          "execution_count": 79
        }
      ]
    },
    {
      "cell_type": "code",
      "source": [
        "rdd.fold(1, mul)"
      ],
      "metadata": {
        "id": "FleXJvrOvwd_",
        "outputId": "b01e39f4-c745-4cb3-da1e-bb02ada4aa3e",
        "colab": {
          "base_uri": "https://localhost:8080/"
        }
      },
      "execution_count": 81,
      "outputs": [
        {
          "output_type": "execute_result",
          "data": {
            "text/plain": [
              "120"
            ]
          },
          "metadata": {},
          "execution_count": 81
        }
      ]
    },
    {
      "cell_type": "code",
      "source": [
        "rdd = sc.parallelize([280,240,295,100])"
      ],
      "metadata": {
        "id": "uqu6RaTGv23n"
      },
      "execution_count": 82,
      "outputs": []
    },
    {
      "cell_type": "code",
      "source": [
        "rdd.fold(300, lambda x,y: max(x,y))"
      ],
      "metadata": {
        "id": "Oyn3k39gwBp8",
        "outputId": "1c6309b1-e371-4f40-e1ee-6757324c5ef6",
        "colab": {
          "base_uri": "https://localhost:8080/"
        }
      },
      "execution_count": 84,
      "outputs": [
        {
          "output_type": "execute_result",
          "data": {
            "text/plain": [
              "300"
            ]
          },
          "metadata": {},
          "execution_count": 84
        }
      ]
    },
    {
      "cell_type": "markdown",
      "source": [
        "**Agregate(ValorCero, seqOp, combOp)**\n",
        "\n",
        "\n",
        "*   seqOp - Este operador es usado para acumular los resultados de cada particion\n",
        "*   combOp - Este operador es usado para acumular los resultados de todas las particiones\n",
        "\n"
      ],
      "metadata": {
        "id": "JHnUKl9PwYrR"
      }
    },
    {
      "cell_type": "code",
      "source": [
        "rdd = sc.parallelize(range(1,6),3)"
      ],
      "metadata": {
        "id": "dhpX3s9Yw2Vl"
      },
      "execution_count": 85,
      "outputs": []
    },
    {
      "cell_type": "code",
      "source": [
        "rdd.glom().collect()"
      ],
      "metadata": {
        "id": "d-WxOIgaw7dI",
        "outputId": "fbded49c-ee2f-46a4-f7e7-6c5fbe341b06",
        "colab": {
          "base_uri": "https://localhost:8080/"
        }
      },
      "execution_count": 86,
      "outputs": [
        {
          "output_type": "execute_result",
          "data": {
            "text/plain": [
              "[[1], [2, 3], [4, 5]]"
            ]
          },
          "metadata": {},
          "execution_count": 86
        }
      ]
    },
    {
      "cell_type": "code",
      "source": [
        "rdd.aggregate(0, lambda x,y: add(x,y), lambda x,y: sub(x,y))"
      ],
      "metadata": {
        "id": "BHr6a0cGwXrR",
        "outputId": "55c697f8-08dc-4a91-f7b3-2526cb150b12",
        "colab": {
          "base_uri": "https://localhost:8080/"
        }
      },
      "execution_count": 87,
      "outputs": [
        {
          "output_type": "execute_result",
          "data": {
            "text/plain": [
              "-15"
            ]
          },
          "metadata": {},
          "execution_count": 87
        }
      ]
    },
    {
      "cell_type": "code",
      "source": [
        "-(1) -(2+3) -(4+5)"
      ],
      "metadata": {
        "id": "34Vci5GYxU74",
        "outputId": "3a3afa28-ea93-4062-d979-789c8b9f7e68",
        "colab": {
          "base_uri": "https://localhost:8080/"
        }
      },
      "execution_count": 88,
      "outputs": [
        {
          "output_type": "execute_result",
          "data": {
            "text/plain": [
              "-15"
            ]
          },
          "metadata": {},
          "execution_count": 88
        }
      ]
    },
    {
      "cell_type": "markdown",
      "source": [
        "**Acciones para contar elementos**\n",
        "\n",
        "\n",
        "*   count() devulve un numero de entero con el numero exacto de elementos del RDD\n",
        "*   countApprox(timeout, confidence = 0.95) version aproximada de count()\n",
        "  *   timeout = timepo en milisegundos\n",
        "  *   confidence = probabilidad de obtener valor real\n",
        "*   countApproxDistinct(relativeSD = 0.05) devuelve una estimacion de valores unicos"
      ],
      "metadata": {
        "id": "yRvhhAxnyLHq"
      }
    },
    {
      "cell_type": "code",
      "source": [
        "rdd = sc.parallelize(range(10000),16)"
      ],
      "metadata": {
        "id": "AzDlAIQ3yOP1"
      },
      "execution_count": 90,
      "outputs": []
    },
    {
      "cell_type": "code",
      "source": [
        "rdd.count()"
      ],
      "metadata": {
        "id": "kbqtUXnpzcSd",
        "outputId": "ce6cea68-b327-4f3f-d790-404b17bc8c99",
        "colab": {
          "base_uri": "https://localhost:8080/"
        }
      },
      "execution_count": 91,
      "outputs": [
        {
          "output_type": "execute_result",
          "data": {
            "text/plain": [
              "10000"
            ]
          },
          "metadata": {},
          "execution_count": 91
        }
      ]
    },
    {
      "cell_type": "code",
      "source": [
        "rdd.distinct().count()"
      ],
      "metadata": {
        "id": "eHwtJI7fzfWB",
        "outputId": "10cccfa6-bd92-4868-cc64-35765b091adf",
        "colab": {
          "base_uri": "https://localhost:8080/"
        }
      },
      "execution_count": 92,
      "outputs": [
        {
          "output_type": "execute_result",
          "data": {
            "text/plain": [
              "10000"
            ]
          },
          "metadata": {},
          "execution_count": 92
        }
      ]
    },
    {
      "cell_type": "code",
      "source": [
        "rdd.countApprox(1,0.95)"
      ],
      "metadata": {
        "id": "_AzJ_w39zkrS",
        "outputId": "3ee74f14-87ab-4bf7-d186-113103ed4060",
        "colab": {
          "base_uri": "https://localhost:8080/"
        }
      },
      "execution_count": 94,
      "outputs": [
        {
          "output_type": "execute_result",
          "data": {
            "text/plain": [
              "10000"
            ]
          },
          "metadata": {},
          "execution_count": 94
        }
      ]
    },
    {
      "cell_type": "code",
      "source": [
        "rdd.countApproxDistinct(0.001)"
      ],
      "metadata": {
        "id": "T_v-zRaKz30g",
        "outputId": "1ac21584-cc73-49bc-b221-0271c587f242",
        "colab": {
          "base_uri": "https://localhost:8080/"
        }
      },
      "execution_count": 96,
      "outputs": [
        {
          "output_type": "execute_result",
          "data": {
            "text/plain": [
              "10000"
            ]
          },
          "metadata": {},
          "execution_count": 96
        }
      ]
    },
    {
      "cell_type": "markdown",
      "source": [],
      "metadata": {
        "id": "Q-PzxFtp0US6"
      }
    },
    {
      "cell_type": "code",
      "source": [
        "rdd = sc.parallelize(list(\"hola mundo\"))"
      ],
      "metadata": {
        "id": "IEyLxlCW0WWZ"
      },
      "execution_count": 98,
      "outputs": []
    },
    {
      "cell_type": "code",
      "source": [
        "rdd.collect()"
      ],
      "metadata": {
        "id": "I_B990ae0eA3",
        "outputId": "4f13f72c-4506-48c7-a920-dbf3c3da4eb0",
        "colab": {
          "base_uri": "https://localhost:8080/"
        }
      },
      "execution_count": 99,
      "outputs": [
        {
          "output_type": "execute_result",
          "data": {
            "text/plain": [
              "['h', 'o', 'l', 'a', ' ', 'm', 'u', 'n', 'd', 'o']"
            ]
          },
          "metadata": {},
          "execution_count": 99
        }
      ]
    },
    {
      "cell_type": "code",
      "source": [
        "rdd.countByValue() #devuelve el numero de veces que aparece un elemento como un mapa o dicionariio"
      ],
      "metadata": {
        "id": "EiLBaPoZ0EQ6",
        "outputId": "7292e105-cabb-4e11-cc76-b55ad51cbbdc",
        "colab": {
          "base_uri": "https://localhost:8080/"
        }
      },
      "execution_count": 101,
      "outputs": [
        {
          "output_type": "execute_result",
          "data": {
            "text/plain": [
              "defaultdict(int,\n",
              "            {'h': 1,\n",
              "             'o': 2,\n",
              "             'l': 1,\n",
              "             'a': 1,\n",
              "             ' ': 1,\n",
              "             'm': 1,\n",
              "             'u': 1,\n",
              "             'n': 1,\n",
              "             'd': 1})"
            ]
          },
          "metadata": {},
          "execution_count": 101
        }
      ]
    },
    {
      "cell_type": "code",
      "source": [
        "rdd.countByValue().items()"
      ],
      "metadata": {
        "id": "4mW1nDAW0qbh",
        "outputId": "23741d73-7fd3-481a-811b-29dadb18c600",
        "colab": {
          "base_uri": "https://localhost:8080/"
        }
      },
      "execution_count": 103,
      "outputs": [
        {
          "output_type": "execute_result",
          "data": {
            "text/plain": [
              "dict_items([('h', 1), ('o', 2), ('l', 1), ('a', 1), (' ', 1), ('m', 1), ('u', 1), ('n', 1), ('d', 1)])"
            ]
          },
          "metadata": {},
          "execution_count": 103
        }
      ]
    }
  ]
}